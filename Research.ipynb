{
  "nbformat": 4,
  "nbformat_minor": 0,
  "metadata": {
    "colab": {
      "provenance": [],
      "authorship_tag": "ABX9TyPTIiJ7kYklMrN50M8qq25h",
      "include_colab_link": true
    },
    "kernelspec": {
      "name": "python3",
      "display_name": "Python 3"
    },
    "language_info": {
      "name": "python"
    }
  },
  "cells": [
    {
      "cell_type": "markdown",
      "metadata": {
        "id": "view-in-github",
        "colab_type": "text"
      },
      "source": [
        "<a href=\"https://colab.research.google.com/github/Natasha617/Diploma/blob/main/Research.ipynb\" target=\"_parent\"><img src=\"https://colab.research.google.com/assets/colab-badge.svg\" alt=\"Open In Colab\"/></a>"
      ]
    },
    {
      "cell_type": "markdown",
      "source": [
        "#  **\"Разработка рекомендательной сиситемы для создания программ дополнительного образования школьников\"**"
      ],
      "metadata": {
        "id": "z_iUkJ49xhyw"
      }
    },
    {
      "cell_type": "markdown",
      "source": [
        "Для построения модели нам нужны данные. И очень часто эти данные содержатся во внешних файлах. Если внешние файлы хранятся на локальном компьютере, то нам нужно подгрузить их в так называемое «Сессионное хранилище». Слово «сессионное» указывает на то, что данные хранятся временно и после завершения очередной сессии стираются."
      ],
      "metadata": {
        "id": "wPLNWBR7xPmF"
      }
    },
    {
      "cell_type": "markdown",
      "source": [
        "Сперва из библиотеки goole.colab импортируем класс drive. Далее просматриваем содержимое папки /content/"
      ],
      "metadata": {
        "id": "-w5rzBRkzL_m"
      }
    },
    {
      "cell_type": "code",
      "execution_count": null,
      "metadata": {
        "colab": {
          "base_uri": "https://localhost:8080/"
        },
        "id": "CVFs3N8kpqTI",
        "outputId": "7fce3db9-f264-47df-919b-91554e2c6625"
      },
      "outputs": [
        {
          "output_type": "stream",
          "name": "stdout",
          "text": [
            "Mounted at /content/drive\n"
          ]
        }
      ],
      "source": [
        "from google.colab import drive\n",
        "drive.mount('/content/drive')"
      ]
    },
    {
      "cell_type": "markdown",
      "source": [
        "Указываем путь к нашему файлу и меняем его название."
      ],
      "metadata": {
        "id": "3ePC_ABv0maJ"
      }
    },
    {
      "cell_type": "code",
      "source": [
        "!cp \"/content/drive/MyDrive/все предметы/4 курс/диплом/data_ne.xlsx\" /content/data.xlsx"
      ],
      "metadata": {
        "id": "b2NhNKPWp39K",
        "colab": {
          "base_uri": "https://localhost:8080/"
        },
        "outputId": "f216652e-017e-4568-85a7-fb7f5abc8aa2"
      },
      "execution_count": null,
      "outputs": [
        {
          "output_type": "stream",
          "name": "stdout",
          "text": [
            "cp: cannot stat '/content/drive/MyDrive/магистратура/NLP/spam_or_not_spam.csv': No such file or directory\n"
          ]
        }
      ]
    },
    {
      "cell_type": "markdown",
      "source": [
        "Устанавливаеме и импортируем все нужные библиотеки."
      ],
      "metadata": {
        "id": "j9vK8qfd0x51"
      }
    },
    {
      "cell_type": "code",
      "source": [
        "import pandas as pd\n",
        "import numpy as np\n",
        "import seaborn as sns\n",
        "from collections import defaultdict\n",
        "from sklearn.metrics import f1_score\n",
        "import matplotlib.pyplot as plt"
      ],
      "metadata": {
        "id": "PnSG7uhLqETd"
      },
      "execution_count": null,
      "outputs": []
    },
    {
      "cell_type": "markdown",
      "source": [
        "Читаем файл с данными с помощью функции read_excel"
      ],
      "metadata": {
        "id": "egHqAp2l03uQ"
      }
    },
    {
      "cell_type": "code",
      "source": [
        "data = pd.read_excel(\"data.xlsx\",index_col=0).drop(columns=['Unnamed: 0'])"
      ],
      "metadata": {
        "id": "erN0n7qJqJGj"
      },
      "execution_count": null,
      "outputs": []
    },
    {
      "cell_type": "markdown",
      "source": [
        "# **Предварительная обработка данных**"
      ],
      "metadata": {
        "id": "XIvqhR3ucqrG"
      }
    },
    {
      "cell_type": "markdown",
      "source": [
        "Меняем названия колонок."
      ],
      "metadata": {
        "id": "Zv4upC-g1TBj"
      }
    },
    {
      "cell_type": "code",
      "source": [
        "new_names=[\"gender\",\"type_fast\",\"can_save_file\",\"can_make_doc\",\"know_comb\",\"files_on_flash\",\"can_use_internet\",\"like_draw\",\"wanna_make_game\",\"age\",\"made_scratch\",\"like_cartoons\",\"can_make_animation\",\"wanna_cartoon_character\",\"wanna_make_cartoon\",\"made_cartoon\", \"voice_cartoon\", \"wanna_edit_photo\", \"learn_prog_minecraft\",\"wanna_3D_world\", \"can_prog_turtle\",\"can_scretch\",\"self_prog\",\"wanna_3Dobjects\",\"made_3d_2d_game\",\"wanna_web_design\",\"like_gesign\",\"like_puzzles\",\"wanna_logics_ex\",\"wanna_app\",\"scale_logics_ex\",\"made_site\",\"learn_prog_minecraft\",\"scale_roblox\",\"wanna_3Dobjects\",\"programmed_roblox\",\"know_unity\",\"scale_draw_design\",\"wanna_web_desig\",\"scale_web_design\",\"learn_web_logic\",\"scale_web_logic\",\"wanna_make_site\",\"like_puzzles\", \"wanna_logics_ex\",\"wanna_AI\",\"wanna_bot\", \"know_Python\",\"know_С++\",\"know_С#\",\"know_JS\",\"wanna_3Dobjects\",\"wanna_animation\",\"wanna_app\",\"wanna_virus\",\"know_security\",\"wanna_security_threats\",\"wanna_code\",\"wanna_mobile_game\",\"know_unity\",\"like_design\",\"rec1\",\"rec2\"]\n",
        "data.columns=new_names"
      ],
      "metadata": {
        "id": "6hx4DV1Dt6mL"
      },
      "execution_count": null,
      "outputs": []
    },
    {
      "cell_type": "markdown",
      "source": [
        "В связи с тем, что некоторые одинаковые вопросы из опросника выгрузились как разные необходимо их объединить в один столбец"
      ],
      "metadata": {
        "id": "I2T9i0y8KFVH"
      }
    },
    {
      "cell_type": "code",
      "source": [
        "data['learn_prog_minecraft']"
      ],
      "metadata": {
        "colab": {
          "base_uri": "https://localhost:8080/",
          "height": 423
        },
        "id": "-VMf3b6DKexB",
        "outputId": "02e490c7-66c7-4543-96b7-9d355fa7a868"
      },
      "execution_count": null,
      "outputs": [
        {
          "output_type": "execute_result",
          "data": {
            "text/plain": [
              "    learn_prog_minecraft learn_prog_minecraft\n",
              "0                    NaN                  NaN\n",
              "1                    NaN                  NaN\n",
              "2                    NaN                  NaN\n",
              "3                     да                  NaN\n",
              "4                    NaN                   да\n",
              "..                   ...                  ...\n",
              "211                  NaN                  NaN\n",
              "212                  NaN                  NaN\n",
              "213                  NaN                  NaN\n",
              "214                  NaN                  NaN\n",
              "215                  NaN                  NaN\n",
              "\n",
              "[216 rows x 2 columns]"
            ],
            "text/html": [
              "\n",
              "  <div id=\"df-96bf6240-17eb-4c0b-b770-00d308fdf768\">\n",
              "    <div class=\"colab-df-container\">\n",
              "      <div>\n",
              "<style scoped>\n",
              "    .dataframe tbody tr th:only-of-type {\n",
              "        vertical-align: middle;\n",
              "    }\n",
              "\n",
              "    .dataframe tbody tr th {\n",
              "        vertical-align: top;\n",
              "    }\n",
              "\n",
              "    .dataframe thead th {\n",
              "        text-align: right;\n",
              "    }\n",
              "</style>\n",
              "<table border=\"1\" class=\"dataframe\">\n",
              "  <thead>\n",
              "    <tr style=\"text-align: right;\">\n",
              "      <th></th>\n",
              "      <th>learn_prog_minecraft</th>\n",
              "      <th>learn_prog_minecraft</th>\n",
              "    </tr>\n",
              "  </thead>\n",
              "  <tbody>\n",
              "    <tr>\n",
              "      <th>0</th>\n",
              "      <td>NaN</td>\n",
              "      <td>NaN</td>\n",
              "    </tr>\n",
              "    <tr>\n",
              "      <th>1</th>\n",
              "      <td>NaN</td>\n",
              "      <td>NaN</td>\n",
              "    </tr>\n",
              "    <tr>\n",
              "      <th>2</th>\n",
              "      <td>NaN</td>\n",
              "      <td>NaN</td>\n",
              "    </tr>\n",
              "    <tr>\n",
              "      <th>3</th>\n",
              "      <td>да</td>\n",
              "      <td>NaN</td>\n",
              "    </tr>\n",
              "    <tr>\n",
              "      <th>4</th>\n",
              "      <td>NaN</td>\n",
              "      <td>да</td>\n",
              "    </tr>\n",
              "    <tr>\n",
              "      <th>...</th>\n",
              "      <td>...</td>\n",
              "      <td>...</td>\n",
              "    </tr>\n",
              "    <tr>\n",
              "      <th>211</th>\n",
              "      <td>NaN</td>\n",
              "      <td>NaN</td>\n",
              "    </tr>\n",
              "    <tr>\n",
              "      <th>212</th>\n",
              "      <td>NaN</td>\n",
              "      <td>NaN</td>\n",
              "    </tr>\n",
              "    <tr>\n",
              "      <th>213</th>\n",
              "      <td>NaN</td>\n",
              "      <td>NaN</td>\n",
              "    </tr>\n",
              "    <tr>\n",
              "      <th>214</th>\n",
              "      <td>NaN</td>\n",
              "      <td>NaN</td>\n",
              "    </tr>\n",
              "    <tr>\n",
              "      <th>215</th>\n",
              "      <td>NaN</td>\n",
              "      <td>NaN</td>\n",
              "    </tr>\n",
              "  </tbody>\n",
              "</table>\n",
              "<p>216 rows × 2 columns</p>\n",
              "</div>\n",
              "      <button class=\"colab-df-convert\" onclick=\"convertToInteractive('df-96bf6240-17eb-4c0b-b770-00d308fdf768')\"\n",
              "              title=\"Convert this dataframe to an interactive table.\"\n",
              "              style=\"display:none;\">\n",
              "        \n",
              "  <svg xmlns=\"http://www.w3.org/2000/svg\" height=\"24px\"viewBox=\"0 0 24 24\"\n",
              "       width=\"24px\">\n",
              "    <path d=\"M0 0h24v24H0V0z\" fill=\"none\"/>\n",
              "    <path d=\"M18.56 5.44l.94 2.06.94-2.06 2.06-.94-2.06-.94-.94-2.06-.94 2.06-2.06.94zm-11 1L8.5 8.5l.94-2.06 2.06-.94-2.06-.94L8.5 2.5l-.94 2.06-2.06.94zm10 10l.94 2.06.94-2.06 2.06-.94-2.06-.94-.94-2.06-.94 2.06-2.06.94z\"/><path d=\"M17.41 7.96l-1.37-1.37c-.4-.4-.92-.59-1.43-.59-.52 0-1.04.2-1.43.59L10.3 9.45l-7.72 7.72c-.78.78-.78 2.05 0 2.83L4 21.41c.39.39.9.59 1.41.59.51 0 1.02-.2 1.41-.59l7.78-7.78 2.81-2.81c.8-.78.8-2.07 0-2.86zM5.41 20L4 18.59l7.72-7.72 1.47 1.35L5.41 20z\"/>\n",
              "  </svg>\n",
              "      </button>\n",
              "      \n",
              "  <style>\n",
              "    .colab-df-container {\n",
              "      display:flex;\n",
              "      flex-wrap:wrap;\n",
              "      gap: 12px;\n",
              "    }\n",
              "\n",
              "    .colab-df-convert {\n",
              "      background-color: #E8F0FE;\n",
              "      border: none;\n",
              "      border-radius: 50%;\n",
              "      cursor: pointer;\n",
              "      display: none;\n",
              "      fill: #1967D2;\n",
              "      height: 32px;\n",
              "      padding: 0 0 0 0;\n",
              "      width: 32px;\n",
              "    }\n",
              "\n",
              "    .colab-df-convert:hover {\n",
              "      background-color: #E2EBFA;\n",
              "      box-shadow: 0px 1px 2px rgba(60, 64, 67, 0.3), 0px 1px 3px 1px rgba(60, 64, 67, 0.15);\n",
              "      fill: #174EA6;\n",
              "    }\n",
              "\n",
              "    [theme=dark] .colab-df-convert {\n",
              "      background-color: #3B4455;\n",
              "      fill: #D2E3FC;\n",
              "    }\n",
              "\n",
              "    [theme=dark] .colab-df-convert:hover {\n",
              "      background-color: #434B5C;\n",
              "      box-shadow: 0px 1px 3px 1px rgba(0, 0, 0, 0.15);\n",
              "      filter: drop-shadow(0px 1px 2px rgba(0, 0, 0, 0.3));\n",
              "      fill: #FFFFFF;\n",
              "    }\n",
              "  </style>\n",
              "\n",
              "      <script>\n",
              "        const buttonEl =\n",
              "          document.querySelector('#df-96bf6240-17eb-4c0b-b770-00d308fdf768 button.colab-df-convert');\n",
              "        buttonEl.style.display =\n",
              "          google.colab.kernel.accessAllowed ? 'block' : 'none';\n",
              "\n",
              "        async function convertToInteractive(key) {\n",
              "          const element = document.querySelector('#df-96bf6240-17eb-4c0b-b770-00d308fdf768');\n",
              "          const dataTable =\n",
              "            await google.colab.kernel.invokeFunction('convertToInteractive',\n",
              "                                                     [key], {});\n",
              "          if (!dataTable) return;\n",
              "\n",
              "          const docLinkHtml = 'Like what you see? Visit the ' +\n",
              "            '<a target=\"_blank\" href=https://colab.research.google.com/notebooks/data_table.ipynb>data table notebook</a>'\n",
              "            + ' to learn more about interactive tables.';\n",
              "          element.innerHTML = '';\n",
              "          dataTable['output_type'] = 'display_data';\n",
              "          await google.colab.output.renderOutput(dataTable, element);\n",
              "          const docLink = document.createElement('div');\n",
              "          docLink.innerHTML = docLinkHtml;\n",
              "          element.appendChild(docLink);\n",
              "        }\n",
              "      </script>\n",
              "    </div>\n",
              "  </div>\n",
              "  "
            ]
          },
          "metadata": {},
          "execution_count": 6
        }
      ]
    },
    {
      "cell_type": "code",
      "source": [
        "for column_name in data.columns:\n",
        "  if isinstance(data[column_name], pd.core.frame.DataFrame):\n",
        "    doubled=data[column_name].fillna(\"\").sum(axis=1)\n",
        "    data = data.drop(columns=[column_name])\n",
        "    data[column_name] = doubled\n",
        "data['learn_prog_minecraft']"
      ],
      "metadata": {
        "colab": {
          "base_uri": "https://localhost:8080/"
        },
        "id": "qkUBNPjYQYhZ",
        "outputId": "2f4abc31-e360-4801-cde8-164254b2ee94"
      },
      "execution_count": null,
      "outputs": [
        {
          "output_type": "execute_result",
          "data": {
            "text/plain": [
              "0        \n",
              "1        \n",
              "2        \n",
              "3      да\n",
              "4      да\n",
              "       ..\n",
              "211      \n",
              "212      \n",
              "213      \n",
              "214      \n",
              "215      \n",
              "Name: learn_prog_minecraft, Length: 216, dtype: object"
            ]
          },
          "metadata": {},
          "execution_count": 7
        }
      ]
    },
    {
      "cell_type": "markdown",
      "source": [
        "Все вопросы были двух типов: либо \"да -нет\", либо шкалы."
      ],
      "metadata": {
        "id": "JXGpthDyLsDo"
      }
    },
    {
      "cell_type": "markdown",
      "source": [
        "Cоздается список(non_bool_features), состоящий из названий колонок, которые содержат категориальные значения. Из него, путём вычитания множеств, получим множество имен колонок(bool_features), содержащее булевые значения.\n",
        "Таким образом мы разделим данные на две части. Первая - часть с дублированными колонками. Вторая - часть колонок в единственном экземпляре."
      ],
      "metadata": {
        "id": "l1_030Od19d5"
      }
    },
    {
      "cell_type": "code",
      "source": [
        "non_bool_features = ['age', 'gender','scale_logics_ex', 'scale_roblox', 'scale_draw_design', 'scale_web_design','scale_web_logic']\n",
        "answers=['rec1','rec2']\n",
        "bool_features=set(new_names)-set(non_bool_features)-set(answers)"
      ],
      "metadata": {
        "id": "fdze-9u7RsRW"
      },
      "execution_count": null,
      "outputs": []
    },
    {
      "cell_type": "markdown",
      "source": [
        "Пробегаемся по колонкам с булевыми значениями(да, нет) и меняем их на 1 и 0. А любые другие значения на -1."
      ],
      "metadata": {
        "id": "i12-1Vjh8TTq"
      }
    },
    {
      "cell_type": "code",
      "source": [
        "for feature in bool_features:\n",
        "  data[feature] = data[feature].map(defaultdict(lambda:0,{\"да\":1, \"нет\":-1}))"
      ],
      "metadata": {
        "id": "ShFvbwRPnv_x"
      },
      "execution_count": null,
      "outputs": []
    },
    {
      "cell_type": "code",
      "source": [
        "data[\"gender\"].value_counts()"
      ],
      "metadata": {
        "colab": {
          "base_uri": "https://localhost:8080/"
        },
        "id": "1VxudIP5NZ-P",
        "outputId": "774e9d91-7774-4ba6-cbda-9664a6c1edde"
      },
      "execution_count": null,
      "outputs": [
        {
          "output_type": "execute_result",
          "data": {
            "text/plain": [
              "мужской    121\n",
              "женский     95\n",
              "Name: gender, dtype: int64"
            ]
          },
          "metadata": {},
          "execution_count": 10
        }
      ]
    },
    {
      "cell_type": "markdown",
      "source": [
        "Так как уникальных значений в столбце 'gender' всего два, его тоже можно сделать булевым"
      ],
      "metadata": {
        "id": "zF14a5vfNiHE"
      }
    },
    {
      "cell_type": "code",
      "source": [
        "data[\"gender\"]= data['gender'].map(defaultdict(lambda:0,{\"женский\":1, \"мужской\":-1}))\n",
        "data=data.rename(columns = {\"gender\":\"is_female\"})"
      ],
      "metadata": {
        "id": "02CmOQC02SLU"
      },
      "execution_count": null,
      "outputs": []
    },
    {
      "cell_type": "markdown",
      "source": [
        "Меняем все оставшиеся значения Nan на 0"
      ],
      "metadata": {
        "id": "HLrhXGz2fOEm"
      }
    },
    {
      "cell_type": "code",
      "source": [
        "data=data.fillna(0)"
      ],
      "metadata": {
        "id": "iKKMGf4sRaOw"
      },
      "execution_count": null,
      "outputs": []
    },
    {
      "cell_type": "markdown",
      "source": [
        "для того, чтобы модель могла численно интерпретировать значения"
      ],
      "metadata": {
        "id": "v4OPKU1JRFeG"
      }
    },
    {
      "cell_type": "code",
      "source": [
        "data['scale_draw_design']"
      ],
      "metadata": {
        "colab": {
          "base_uri": "https://localhost:8080/"
        },
        "id": "nsAZAk1jW6uw",
        "outputId": "1b28f5c0-514a-4ce6-dc90-37dff6c3fe23"
      },
      "execution_count": null,
      "outputs": [
        {
          "output_type": "execute_result",
          "data": {
            "text/plain": [
              "0      0.0\n",
              "1      0.0\n",
              "2      0.0\n",
              "3      0.0\n",
              "4      4.0\n",
              "      ... \n",
              "211    0.0\n",
              "212    0.0\n",
              "213    0.0\n",
              "214    0.0\n",
              "215    0.0\n",
              "Name: scale_draw_design, Length: 216, dtype: float64"
            ]
          },
          "metadata": {},
          "execution_count": 12
        }
      ]
    },
    {
      "cell_type": "markdown",
      "source": [
        "Усредняется возраст"
      ],
      "metadata": {
        "id": "sfvpD36wffBR"
      }
    },
    {
      "cell_type": "code",
      "source": [
        "data['age']=data['age'].map({'6-7': 6.5, '8-9': 8.5, '10-12': 11, '13+': 14})"
      ],
      "metadata": {
        "id": "regms8C5AZAf"
      },
      "execution_count": null,
      "outputs": []
    },
    {
      "cell_type": "markdown",
      "source": [
        "# **Исследовательский анализ данных(EDA)**"
      ],
      "metadata": {
        "id": "8JWE1SeJcW6X"
      }
    },
    {
      "cell_type": "code",
      "source": [
        "import matplotlib.pyplot as plt\n",
        "is_female_value = data['is_female'].value_counts()\n",
        "plt.bar(is_female_value.index,is_female_value.values)\n",
        "plt.xlabel('пол')\n",
        "plt.ylabel('количество')\n",
        "plt.show()"
      ],
      "metadata": {
        "colab": {
          "base_uri": "https://localhost:8080/",
          "height": 454
        },
        "id": "HV-pOjSzv2gp",
        "outputId": "90180636-5f8c-4c3e-a9a8-6f8bc93e2dae"
      },
      "execution_count": null,
      "outputs": [
        {
          "output_type": "display_data",
          "data": {
            "text/plain": [
              "<Figure size 640x480 with 1 Axes>"
            ],
            "image/png": "[encoded data removed]"
          },
          "metadata": {}
        }
      ]
    },
    {
      "cell_type": "code",
      "source": [
        "import matplotlib.pyplot as plt\n",
        "value = data['age'].value_counts()\n",
        "plt.bar(value.index,value.values)\n",
        "plt.xlabel('возраст')\n",
        "plt.ylabel('количество')\n",
        "plt.show()"
      ],
      "metadata": {
        "id": "mYJFuUqfAt_K"
      },
      "execution_count": null,
      "outputs": []
    },
    {
      "cell_type": "code",
      "source": [
        "data['age']. corr(data['know_unity'])"
      ],
      "metadata": {
        "colab": {
          "base_uri": "https://localhost:8080/"
        },
        "id": "Jx-LWZlo3ReG",
        "outputId": "325d9fbc-1ecc-47bd-9595-c275b5cdb1a2"
      },
      "execution_count": null,
      "outputs": [
        {
          "output_type": "execute_result",
          "data": {
            "text/plain": [
              "0.06758459900487356"
            ]
          },
          "metadata": {},
          "execution_count": 18
        }
      ]
    },
    {
      "cell_type": "code",
      "source": [
        "data[[\"rec1\",\"age\"]].value_counts()"
      ],
      "metadata": {
        "colab": {
          "base_uri": "https://localhost:8080/"
        },
        "id": "Oi6NTlwC38_D",
        "outputId": "b55128fb-9c22-4cc2-c435-f7107161c941"
      },
      "execution_count": null,
      "outputs": [
        {
          "output_type": "execute_result",
          "data": {
            "text/plain": [
              "rec1                      age \n",
              "web- разработка           14.0    182\n",
              "Python \"Чат-бот\"          14.0    128\n",
              "Компьютерная грамотность  8.5     127\n",
              "Кибербезопасность         14.0    125\n",
              "Roblox                    11.0    111\n",
              "Godot                     14.0     98\n",
              "Создание приложений       11.0     97\n",
              "Python \"Нейросети\"        14.0     96\n",
              "Unity                     11.0     94\n",
              "Компьютерная грамотность  14.0     86\n",
              "                          11.0     83\n",
              "web- разработка           11.0     80\n",
              "Python основы             11.0     73\n",
              "web-дизайн                14.0     69\n",
              "ScratchJr                 6.5      68\n",
              "Minecraft                 11.0     67\n",
              "изуение PHP               14.0     66\n",
              "Python основы             14.0     63\n",
              "Scratch 3                 8.5      40\n",
              "CoSpaces                  8.5      40\n",
              "codu                      6.5      39\n",
              "Minecraft                 8.5      34\n",
              "dtype: int64"
            ]
          },
          "metadata": {},
          "execution_count": 24
        }
      ]
    },
    {
      "cell_type": "code",
      "source": [
        "\n",
        "data_male = data[data['is_female'] == -1] # отбираем только строки с мужчинами\n",
        "male_recommendations = data_male['rec1'].value_counts()\n",
        "data_female = data[data['is_female'] == 1] # отбираем только строки с женщинами\n",
        "female_recommendations = data_female['rec1'].value_counts()\n",
        "print(male_recommendations,female_recommendations )"
      ],
      "metadata": {
        "colab": {
          "base_uri": "https://localhost:8080/"
        },
        "id": "1c5TDYzE9y3U",
        "outputId": "f85ed761-b767-4f0a-f4a8-9c6bb3745992"
      },
      "execution_count": null,
      "outputs": [
        {
          "output_type": "stream",
          "name": "stdout",
          "text": [
            "web- разработка             137\n",
            "Компьютерная грамотность    136\n",
            "Python основы                79\n",
            "Кибербезопасность            64\n",
            "Python \"Чат-бот\"             63\n",
            "Roblox                       54\n",
            "Создание приложений          54\n",
            "Minecraft                    53\n",
            "Godot                        53\n",
            "Unity                        51\n",
            "Python \"Нейросети\"           40\n",
            "web-дизайн                   37\n",
            "изуение PHP                  35\n",
            "ScratchJr                    34\n",
            "Scratch 3                    23\n",
            "CoSpaces                     22\n",
            "codu                         20\n",
            "Name: rec1, dtype: int64 Компьютерная грамотность    160\n",
            "web- разработка             125\n",
            "Python \"Чат-бот\"             65\n",
            "Кибербезопасность            61\n",
            "Python основы                57\n",
            "Roblox                       57\n",
            "Python \"Нейросети\"           56\n",
            "Minecraft                    48\n",
            "Godot                        45\n",
            "Создание приложений          43\n",
            "Unity                        43\n",
            "ScratchJr                    34\n",
            "web-дизайн                   32\n",
            "изуение PHP                  31\n",
            "codu                         19\n",
            "CoSpaces                     18\n",
            "Scratch 3                    17\n",
            "Name: rec1, dtype: int64\n"
          ]
        }
      ]
    },
    {
      "cell_type": "code",
      "source": [
        "data[[\"rec2\",\"age\"]].value_counts()"
      ],
      "metadata": {
        "colab": {
          "base_uri": "https://localhost:8080/"
        },
        "id": "5bol_lN17giS",
        "outputId": "81519b3d-be50-4dc0-c80f-bf65095e9078"
      },
      "execution_count": null,
      "outputs": [
        {
          "output_type": "execute_result",
          "data": {
            "text/plain": [
              "rec2                 age \n",
              "Python \"Нейросети\"   14.0    159\n",
              "Python \"Чат-бот\"     14.0    159\n",
              "Python основы        11.0    138\n",
              "Создание приложений  11.0    137\n",
              "Изучение JavaScript  14.0    100\n",
              "Векторная графика    11.0     97\n",
              "Scratch 3            8.5      75\n",
              "Gif-анимация         6.5      73\n",
              "CoSpaces             8.5      71\n",
              "Figma Basic          14.0     70\n",
              "Python в Minecraft   11.0     69\n",
              "web- разработка      14.0     67\n",
              "Кибербезопасность    14.0     64\n",
              "Unity                11.0     62\n",
              "web- разработка      11.0     62\n",
              "Основы С++           14.0     62\n",
              "Minecraft            8.5      52\n",
              "Roblox               8.5      43\n",
              "                     11.0     40\n",
              "Python основы        14.0     38\n",
              "Игровой JavaScript   14.0     35\n",
              "codu                 6.5      34\n",
              "Создание приложений  14.0     33\n",
              "web-дизайн           14.0     33\n",
              "Игры на Python       14.0     31\n",
              "Векторная графика    14.0     31\n",
              "Unity                14.0     31\n",
              "dtype: int64"
            ]
          },
          "metadata": {},
          "execution_count": 25
        }
      ]
    },
    {
      "cell_type": "markdown",
      "source": [
        "# **Обучение модели и оценка качества**"
      ],
      "metadata": {
        "id": "2NpxNlfBdf3w"
      }
    },
    {
      "cell_type": "markdown",
      "source": [
        "Импорт нужных библиотек"
      ],
      "metadata": {
        "id": "H7jDDI04-Z_f"
      }
    },
    {
      "cell_type": "code",
      "source": [
        "from sklearn import tree\n",
        "from sklearn.linear_model import LogisticRegression\n",
        "from sklearn import svm\n",
        "from sklearn.ensemble import RandomForestClassifier\n",
        "from sklearn.model_selection import train_test_split\n",
        "from sklearn.model_selection import GridSearchCV"
      ],
      "metadata": {
        "id": "UT5MnkuH6hrA"
      },
      "execution_count": null,
      "outputs": []
    },
    {
      "cell_type": "markdown",
      "source": [
        "Далее y1 и y2 - столбцы с рекомендациями\n",
        "\n",
        "X - остальные данные"
      ],
      "metadata": {
        "id": "FbdztyRONuz0"
      }
    },
    {
      "cell_type": "code",
      "source": [
        "y1 = data['rec1']\n",
        "y2 = data['rec2']"
      ],
      "metadata": {
        "id": "jLGmw4-yTJlh"
      },
      "execution_count": null,
      "outputs": []
    },
    {
      "cell_type": "code",
      "source": [
        "X = data.drop(columns = ['rec1','rec2'])"
      ],
      "metadata": {
        "id": "Ah6COVQPQIKc"
      },
      "execution_count": null,
      "outputs": []
    },
    {
      "cell_type": "markdown",
      "source": [
        "Разбиение на тестовую и обучающую выборку:"
      ],
      "metadata": {
        "id": "eNLCvqrvOEpH"
      }
    },
    {
      "cell_type": "code",
      "source": [
        "X_train, X_test, y1_train, y1_test = train_test_split(X, y1, random_state= 0, test_size= 0.3 )\n"
      ],
      "metadata": {
        "id": "Bnar5SBaJSfO"
      },
      "execution_count": null,
      "outputs": []
    },
    {
      "cell_type": "markdown",
      "source": [
        "Подбор параметров"
      ],
      "metadata": {
        "id": "yEecDTTpOMfW"
      }
    },
    {
      "cell_type": "code",
      "source": [
        "clf = tree.DecisionTreeClassifier()\n",
        "parametrs = { 'criterion': ['gini', 'entropy','log_loss'],\n",
        "              'splitter': ['best', 'random'],\n",
        "              'max_depth': [10,11],\n",
        "              'min_samples_split': [2,3],\n",
        "              'random_state': [40,50]\n",
        "            }\n",
        "grid_tree1 = GridSearchCV(clf, parametrs, cv=10,scoring=\"f1_weighted\")\n",
        "grid_tree2 = GridSearchCV(clf, parametrs, cv=10,scoring=\"f1_weighted\")\n",
        "grid_tree1.fit(X, y1)\n",
        "grid_tree2.fit(X, y2)\n",
        "print(f'Лучшие параметры для дерева решений(rec1):{grid_tree1.best_params_}')\n",
        "print(f'Лучшие параметры для дерева решений(rec2):{grid_tree2.best_params_}')\n",
        "print(f'Лучший результат предсказания(rec1):{grid_tree1.best_score_}')\n",
        "print(f'Лучший результат предсказания(rec2):{grid_tree2.best_score_}')"
      ],
      "metadata": {
        "colab": {
          "base_uri": "https://localhost:8080/"
        },
        "id": "PkEB9G0AiJrY",
        "outputId": "9dc0205b-d2de-44b4-ef88-fa9347a7237e"
      },
      "execution_count": null,
      "outputs": [
        {
          "output_type": "stream",
          "name": "stdout",
          "text": [
            "Лучшие параметры для дерева решений(rec1):{'criterion': 'entropy', 'max_depth': 11, 'min_samples_split': 2, 'random_state': 50, 'splitter': 'random'}\n",
            "Лучшие параметры для дерева решений(rec2):{'criterion': 'entropy', 'max_depth': 10, 'min_samples_split': 3, 'random_state': 40, 'splitter': 'best'}\n",
            "Лучший результат предсказания(rec1):0.9436489586339704\n",
            "Лучший результат предсказания(rec2):0.9310559667194145\n"
          ]
        }
      ]
    },
    {
      "cell_type": "code",
      "source": [
        "plt.figure(dpi = 600)\n",
        "tree.plot_tree(clf)\n",
        "plt.savefig('tree.png',format='png',bbox_inches = \"tight\")"
      ],
      "metadata": {
        "id": "avBTzc6KRzDF"
      },
      "execution_count": null,
      "outputs": []
    },
    {
      "cell_type": "code",
      "source": [
        "clf = tree.DecisionTreeClassifier(**grid_tree1.best_params_) #создание модели с лучшими параметрами\n",
        "clf.fit(X_train,y1_train)"
      ],
      "metadata": {
        "colab": {
          "base_uri": "https://localhost:8080/",
          "height": 92
        },
        "id": "lEMlICsoYhFm",
        "outputId": "f99ef210-f079-4e43-b04a-64ac1ca65b34"
      },
      "execution_count": null,
      "outputs": [
        {
          "output_type": "execute_result",
          "data": {
            "text/plain": [
              "DecisionTreeClassifier(criterion='entropy', max_depth=11, random_state=50,\n",
              "                       splitter='random')"
            ],
            "text/html": [
              "<style>#sk-container-id-2 {color: black;background-color: white;}#sk-container-id-2 pre{padding: 0;}#sk-container-id-2 div.sk-toggleable {background-color: white;}#sk-container-id-2 label.sk-toggleable__label {cursor: pointer;display: block;width: 100%;margin-bottom: 0;padding: 0.3em;box-sizing: border-box;text-align: center;}#sk-container-id-2 label.sk-toggleable__label-arrow:before {content: \"▸\";float: left;margin-right: 0.25em;color: #696969;}#sk-container-id-2 label.sk-toggleable__label-arrow:hover:before {color: black;}#sk-container-id-2 div.sk-estimator:hover label.sk-toggleable__label-arrow:before {color: black;}#sk-container-id-2 div.sk-toggleable__content {max-height: 0;max-width: 0;overflow: hidden;text-align: left;background-color: #f0f8ff;}#sk-container-id-2 div.sk-toggleable__content pre {margin: 0.2em;color: black;border-radius: 0.25em;background-color: #f0f8ff;}#sk-container-id-2 input.sk-toggleable__control:checked~div.sk-toggleable__content {max-height: 200px;max-width: 100%;overflow: auto;}#sk-container-id-2 input.sk-toggleable__control:checked~label.sk-toggleable__label-arrow:before {content: \"▾\";}#sk-container-id-2 div.sk-estimator input.sk-toggleable__control:checked~label.sk-toggleable__label {background-color: #d4ebff;}#sk-container-id-2 div.sk-label input.sk-toggleable__control:checked~label.sk-toggleable__label {background-color: #d4ebff;}#sk-container-id-2 input.sk-hidden--visually {border: 0;clip: rect(1px 1px 1px 1px);clip: rect(1px, 1px, 1px, 1px);height: 1px;margin: -1px;overflow: hidden;padding: 0;position: absolute;width: 1px;}#sk-container-id-2 div.sk-estimator {font-family: monospace;background-color: #f0f8ff;border: 1px dotted black;border-radius: 0.25em;box-sizing: border-box;margin-bottom: 0.5em;}#sk-container-id-2 div.sk-estimator:hover {background-color: #d4ebff;}#sk-container-id-2 div.sk-parallel-item::after {content: \"\";width: 100%;border-bottom: 1px solid gray;flex-grow: 1;}#sk-container-id-2 div.sk-label:hover label.sk-toggleable__label {background-color: #d4ebff;}#sk-container-id-2 div.sk-serial::before {content: \"\";position: absolute;border-left: 1px solid gray;box-sizing: border-box;top: 0;bottom: 0;left: 50%;z-index: 0;}#sk-container-id-2 div.sk-serial {display: flex;flex-direction: column;align-items: center;background-color: white;padding-right: 0.2em;padding-left: 0.2em;position: relative;}#sk-container-id-2 div.sk-item {position: relative;z-index: 1;}#sk-container-id-2 div.sk-parallel {display: flex;align-items: stretch;justify-content: center;background-color: white;position: relative;}#sk-container-id-2 div.sk-item::before, #sk-container-id-2 div.sk-parallel-item::before {content: \"\";position: absolute;border-left: 1px solid gray;box-sizing: border-box;top: 0;bottom: 0;left: 50%;z-index: -1;}#sk-container-id-2 div.sk-parallel-item {display: flex;flex-direction: column;z-index: 1;position: relative;background-color: white;}#sk-container-id-2 div.sk-parallel-item:first-child::after {align-self: flex-end;width: 50%;}#sk-container-id-2 div.sk-parallel-item:last-child::after {align-self: flex-start;width: 50%;}#sk-container-id-2 div.sk-parallel-item:only-child::after {width: 0;}#sk-container-id-2 div.sk-dashed-wrapped {border: 1px dashed gray;margin: 0 0.4em 0.5em 0.4em;box-sizing: border-box;padding-bottom: 0.4em;background-color: white;}#sk-container-id-2 div.sk-label label {font-family: monospace;font-weight: bold;display: inline-block;line-height: 1.2em;}#sk-container-id-2 div.sk-label-container {text-align: center;}#sk-container-id-2 div.sk-container {/* jupyter's `normalize.less` sets `[hidden] { display: none; }` but bootstrap.min.css set `[hidden] { display: none !important; }` so we also need the `!important` here to be able to override the default hidden behavior on the sphinx rendered scikit-learn.org. See: https://github.com/scikit-learn/scikit-learn/issues/21755 */display: inline-block !important;position: relative;}#sk-container-id-2 div.sk-text-repr-fallback {display: none;}</style><div id=\"sk-container-id-2\" class=\"sk-top-container\"><div class=\"sk-text-repr-fallback\"><pre>DecisionTreeClassifier(criterion=&#x27;entropy&#x27;, max_depth=11, random_state=50,\n",
              "                       splitter=&#x27;random&#x27;)</pre><b>In a Jupyter environment, please rerun this cell to show the HTML representation or trust the notebook. <br />On GitHub, the HTML representation is unable to render, please try loading this page with nbviewer.org.</b></div><div class=\"sk-container\" hidden><div class=\"sk-item\"><div class=\"sk-estimator sk-toggleable\"><input class=\"sk-toggleable__control sk-hidden--visually\" id=\"sk-estimator-id-2\" type=\"checkbox\" checked><label for=\"sk-estimator-id-2\" class=\"sk-toggleable__label sk-toggleable__label-arrow\">DecisionTreeClassifier</label><div class=\"sk-toggleable__content\"><pre>DecisionTreeClassifier(criterion=&#x27;entropy&#x27;, max_depth=11, random_state=50,\n",
              "                       splitter=&#x27;random&#x27;)</pre></div></div></div></div></div>"
            ]
          },
          "metadata": {},
          "execution_count": 14
        }
      ]
    },
    {
      "cell_type": "code",
      "source": [
        "f1_score(y1_test, clf.predict(X_test),average='weighted') # оценка качества"
      ],
      "metadata": {
        "id": "5LvMXOgtMDaR",
        "colab": {
          "base_uri": "https://localhost:8080/"
        },
        "outputId": "c35e047d-abea-4b88-bf54-95615913594e"
      },
      "execution_count": null,
      "outputs": [
        {
          "output_type": "execute_result",
          "data": {
            "text/plain": [
              "0.959348703837118"
            ]
          },
          "metadata": {},
          "execution_count": 15
        }
      ]
    },
    {
      "cell_type": "code",
      "source": [
        "from sklearn.model_selection import cross_val_score\n",
        "cross_val_score(clf, X, y1)"
      ],
      "metadata": {
        "colab": {
          "base_uri": "https://localhost:8080/"
        },
        "id": "iwbZoR0vMTil",
        "outputId": "59fa1332-0a85-4c66-f387-0d948bb070c8"
      },
      "execution_count": null,
      "outputs": [
        {
          "output_type": "execute_result",
          "data": {
            "text/plain": [
              "array([0.87967914, 0.86595174, 0.90884718, 0.96782842, 0.90348525])"
            ]
          },
          "metadata": {},
          "execution_count": 19
        }
      ]
    },
    {
      "cell_type": "code",
      "source": [
        "clf.fit(X,y1)"
      ],
      "metadata": {
        "colab": {
          "base_uri": "https://localhost:8080/",
          "height": 74
        },
        "id": "nx2l8jFHk7Jn",
        "outputId": "01d495da-5195-4445-aa41-ef9b3d96af13"
      },
      "execution_count": null,
      "outputs": [
        {
          "output_type": "execute_result",
          "data": {
            "text/plain": [
              "DecisionTreeClassifier(random_state=50)"
            ],
            "text/html": [
              "<style>#sk-container-id-11 {color: black;background-color: white;}#sk-container-id-11 pre{padding: 0;}#sk-container-id-11 div.sk-toggleable {background-color: white;}#sk-container-id-11 label.sk-toggleable__label {cursor: pointer;display: block;width: 100%;margin-bottom: 0;padding: 0.3em;box-sizing: border-box;text-align: center;}#sk-container-id-11 label.sk-toggleable__label-arrow:before {content: \"▸\";float: left;margin-right: 0.25em;color: #696969;}#sk-container-id-11 label.sk-toggleable__label-arrow:hover:before {color: black;}#sk-container-id-11 div.sk-estimator:hover label.sk-toggleable__label-arrow:before {color: black;}#sk-container-id-11 div.sk-toggleable__content {max-height: 0;max-width: 0;overflow: hidden;text-align: left;background-color: #f0f8ff;}#sk-container-id-11 div.sk-toggleable__content pre {margin: 0.2em;color: black;border-radius: 0.25em;background-color: #f0f8ff;}#sk-container-id-11 input.sk-toggleable__control:checked~div.sk-toggleable__content {max-height: 200px;max-width: 100%;overflow: auto;}#sk-container-id-11 input.sk-toggleable__control:checked~label.sk-toggleable__label-arrow:before {content: \"▾\";}#sk-container-id-11 div.sk-estimator input.sk-toggleable__control:checked~label.sk-toggleable__label {background-color: #d4ebff;}#sk-container-id-11 div.sk-label input.sk-toggleable__control:checked~label.sk-toggleable__label {background-color: #d4ebff;}#sk-container-id-11 input.sk-hidden--visually {border: 0;clip: rect(1px 1px 1px 1px);clip: rect(1px, 1px, 1px, 1px);height: 1px;margin: -1px;overflow: hidden;padding: 0;position: absolute;width: 1px;}#sk-container-id-11 div.sk-estimator {font-family: monospace;background-color: #f0f8ff;border: 1px dotted black;border-radius: 0.25em;box-sizing: border-box;margin-bottom: 0.5em;}#sk-container-id-11 div.sk-estimator:hover {background-color: #d4ebff;}#sk-container-id-11 div.sk-parallel-item::after {content: \"\";width: 100%;border-bottom: 1px solid gray;flex-grow: 1;}#sk-container-id-11 div.sk-label:hover label.sk-toggleable__label {background-color: #d4ebff;}#sk-container-id-11 div.sk-serial::before {content: \"\";position: absolute;border-left: 1px solid gray;box-sizing: border-box;top: 0;bottom: 0;left: 50%;z-index: 0;}#sk-container-id-11 div.sk-serial {display: flex;flex-direction: column;align-items: center;background-color: white;padding-right: 0.2em;padding-left: 0.2em;position: relative;}#sk-container-id-11 div.sk-item {position: relative;z-index: 1;}#sk-container-id-11 div.sk-parallel {display: flex;align-items: stretch;justify-content: center;background-color: white;position: relative;}#sk-container-id-11 div.sk-item::before, #sk-container-id-11 div.sk-parallel-item::before {content: \"\";position: absolute;border-left: 1px solid gray;box-sizing: border-box;top: 0;bottom: 0;left: 50%;z-index: -1;}#sk-container-id-11 div.sk-parallel-item {display: flex;flex-direction: column;z-index: 1;position: relative;background-color: white;}#sk-container-id-11 div.sk-parallel-item:first-child::after {align-self: flex-end;width: 50%;}#sk-container-id-11 div.sk-parallel-item:last-child::after {align-self: flex-start;width: 50%;}#sk-container-id-11 div.sk-parallel-item:only-child::after {width: 0;}#sk-container-id-11 div.sk-dashed-wrapped {border: 1px dashed gray;margin: 0 0.4em 0.5em 0.4em;box-sizing: border-box;padding-bottom: 0.4em;background-color: white;}#sk-container-id-11 div.sk-label label {font-family: monospace;font-weight: bold;display: inline-block;line-height: 1.2em;}#sk-container-id-11 div.sk-label-container {text-align: center;}#sk-container-id-11 div.sk-container {/* jupyter's `normalize.less` sets `[hidden] { display: none; }` but bootstrap.min.css set `[hidden] { display: none !important; }` so we also need the `!important` here to be able to override the default hidden behavior on the sphinx rendered scikit-learn.org. See: https://github.com/scikit-learn/scikit-learn/issues/21755 */display: inline-block !important;position: relative;}#sk-container-id-11 div.sk-text-repr-fallback {display: none;}</style><div id=\"sk-container-id-11\" class=\"sk-top-container\"><div class=\"sk-text-repr-fallback\"><pre>DecisionTreeClassifier(random_state=50)</pre><b>In a Jupyter environment, please rerun this cell to show the HTML representation or trust the notebook. <br />On GitHub, the HTML representation is unable to render, please try loading this page with nbviewer.org.</b></div><div class=\"sk-container\" hidden><div class=\"sk-item\"><div class=\"sk-estimator sk-toggleable\"><input class=\"sk-toggleable__control sk-hidden--visually\" id=\"sk-estimator-id-15\" type=\"checkbox\" checked><label for=\"sk-estimator-id-15\" class=\"sk-toggleable__label sk-toggleable__label-arrow\">DecisionTreeClassifier</label><div class=\"sk-toggleable__content\"><pre>DecisionTreeClassifier(random_state=50)</pre></div></div></div></div></div>"
            ]
          },
          "metadata": {},
          "execution_count": 48
        }
      ]
    },
    {
      "cell_type": "code",
      "source": [
        "len(data[data['rec1']=='Roblox'].drop(columns=['rec1','rec2']).value_counts())"
      ],
      "metadata": {
        "id": "nnV-DqELfd6Z"
      },
      "execution_count": null,
      "outputs": []
    },
    {
      "cell_type": "code",
      "source": [
        "len(data[['rec1','rec2']].value_counts())"
      ],
      "metadata": {
        "colab": {
          "base_uri": "https://localhost:8080/"
        },
        "id": "2qfih2L5fevz",
        "outputId": "df811a36-5ce6-4f04-efd3-31ae7d72a4ff"
      },
      "execution_count": null,
      "outputs": [
        {
          "output_type": "execute_result",
          "data": {
            "text/plain": [
              "55"
            ]
          },
          "metadata": {},
          "execution_count": 24
        }
      ]
    },
    {
      "cell_type": "code",
      "source": [
        "clf1 = LogisticRegression() # то же самаое для логистической регрессии\n",
        "parametrs = { 'penalty': ['l1', 'l2', 'elasticnet', None],\n",
        "              'random_state': [40,50],\n",
        "              'tol': [1,2,3]\n",
        "            }\n",
        "grid_log1 = GridSearchCV(clf1, parametrs, cv=10,scoring=\"f1_weighted\")\n",
        "grid_log2 = GridSearchCV(clf1, parametrs, cv=10,scoring=\"f1_weighted\")\n",
        "grid_log1.fit(X, y1)\n",
        "grid_log2.fit(X,y2)\n",
        "print(f'Лучшие параметры для логистической регрессии(rec1):{grid_log1.best_params_}')\n",
        "print(f'Лучшие параметры для логистической регрессии(rec2):{grid_log2.best_params_}')\n",
        "print(f'Лучший результат предсказания(rec1):{grid_log1.best_score_}')\n",
        "print(f'Лучший результат предсказания(rec2):{grid_log2.best_score_}')"
      ],
      "metadata": {
        "id": "pTrMvUvYtG3N"
      },
      "execution_count": null,
      "outputs": []
    },
    {
      "cell_type": "code",
      "source": [
        "clf1 = LogisticRegression(**grid_log1.best_params_)\n",
        "clf1 = clf1.fit(X_train, y1_train)\n",
        "\n",
        "f1_score(y1_test, clf1.predict(X_test),average='weighted')"
      ],
      "metadata": {
        "colab": {
          "base_uri": "https://localhost:8080/"
        },
        "id": "118deCBcVvY-",
        "outputId": "b2aa9b0c-becb-45c4-b309-e914a6b071c4"
      },
      "execution_count": null,
      "outputs": [
        {
          "output_type": "execute_result",
          "data": {
            "text/plain": [
              "0.9390075785555504"
            ]
          },
          "metadata": {},
          "execution_count": 18
        }
      ]
    },
    {
      "cell_type": "code",
      "source": [
        "clf2 = svm.SVC() # метод опорных векторов\n",
        "parametrs = { 'C': [0.1, 0.3, 0.5, 0.7, 1, 1.5, 2],\n",
        "             'kernel':['linear', 'poly', 'rbf', 'sigmoid'],\n",
        "             'tol':[1,2,3]\n",
        "            }\n",
        "grid_svm1 = GridSearchCV(clf2, parametrs, cv=10,scoring=\"f1_weighted\")\n",
        "grid_svm2 = GridSearchCV(clf2, parametrs, cv=10,scoring=\"f1_weighted\")\n",
        "grid_svm1.fit(X, y1)\n",
        "grid_svm2.fit(X, y2)\n",
        "print(f'Лучшие параметры для SVM(rec1):{grid_svm1.best_params_}')\n",
        "print(f'Лучшие параметры для SVM(rec2):{grid_svm2.best_params_}')\n",
        "print(f'Лучший результат предсказания(rec1):{grid_svm1.best_score_}')\n",
        "print(f'Лучший результат предсказания(rec2):{grid_svm2.best_score_}')\n"
      ],
      "metadata": {
        "id": "UiTyZE8rBlX9",
        "colab": {
          "base_uri": "https://localhost:8080/"
        },
        "outputId": "acd9cb3f-1ec2-42d1-c178-acd7e47f7303"
      },
      "execution_count": null,
      "outputs": [
        {
          "output_type": "stream",
          "name": "stdout",
          "text": [
            "Лучшие параметры для SVM(rec1):{'C': 0.3, 'kernel': 'linear', 'tol': 1}\n",
            "Лучшие параметры для SVM(rec2):{'C': 0.5, 'kernel': 'linear', 'tol': 1}\n",
            "Лучший результат предсказания(rec1):0.952977645216017\n",
            "Лучший результат предсказания(rec2):0.9326998921727535\n"
          ]
        }
      ]
    },
    {
      "cell_type": "code",
      "source": [
        "clf2 = svm.SVC(**grid_svm1.best_params_)\n",
        "clf2 = clf2.fit(X_train, y1_train)\n",
        "\n",
        "\n",
        "f1_score(y1_test, clf2.predict(X_test),average='weighted')"
      ],
      "metadata": {
        "colab": {
          "base_uri": "https://localhost:8080/"
        },
        "id": "8v7IzPx7FHIq",
        "outputId": "87fb430e-86d0-4155-ef7e-228da30c9bc0"
      },
      "execution_count": null,
      "outputs": [
        {
          "output_type": "execute_result",
          "data": {
            "text/plain": [
              "0.9629454805780698"
            ]
          },
          "metadata": {},
          "execution_count": 86
        }
      ]
    },
    {
      "cell_type": "code",
      "source": [
        "clf2.fit(X)"
      ],
      "metadata": {
        "id": "8q0OWAPP_m9A"
      },
      "execution_count": null,
      "outputs": []
    },
    {
      "cell_type": "code",
      "source": [
        "import joblib # сохранение\n",
        "joblib.dump(clf2,\"SVC.pkl\")"
      ],
      "metadata": {
        "colab": {
          "base_uri": "https://localhost:8080/"
        },
        "id": "rNnIEhG9GOZZ",
        "outputId": "427f30c0-f24a-4a6c-c6b2-3fb81d99f94e"
      },
      "execution_count": null,
      "outputs": [
        {
          "output_type": "execute_result",
          "data": {
            "text/plain": [
              "['SVC.pkl']"
            ]
          },
          "metadata": {},
          "execution_count": 101
        }
      ]
    },
    {
      "cell_type": "code",
      "source": [
        "clf3=RandomForestClassifier() # Случайный лес\n",
        "parametrs = { 'criterion': ['gini', 'entropy','log_loss'],\n",
        "              'max_depth': [10,11],\n",
        "              'min_samples_split': [2,3]\n",
        "            }\n",
        "grid_forest1 = GridSearchCV(clf3, parametrs, cv=10,scoring=\"f1_weighted\")\n",
        "grid_forest2 = GridSearchCV(clf3, parametrs, cv=10,scoring=\"f1_weighted\")\n",
        "grid_forest1.fit(X, y1)\n",
        "grid_forest2.fit(X, y2)\n",
        "print(f'Лучшие параметры для RandomForestClassifier(rec1):{grid_forest1.best_params_}')\n",
        "print(f'Лучшие параметры для RandomForestClassifier(rec2):{grid_forest2.best_params_}')\n",
        "print(f'Лучший результат предсказания(rec1):{grid_forest1.best_score_}')\n",
        "print(f'Лучший результат предсказания(rec2):{grid_forest2.best_score_}')"
      ],
      "metadata": {
        "colab": {
          "base_uri": "https://localhost:8080/"
        },
        "id": "rB509v8MyjdY",
        "outputId": "12b54072-c50d-41e4-b043-f8cf4230d0a7"
      },
      "execution_count": null,
      "outputs": [
        {
          "output_type": "stream",
          "name": "stdout",
          "text": [
            "Лучшие параметры для RandomForestClassifier(rec1):{'criterion': 'log_loss', 'max_depth': 11, 'min_samples_split': 3}\n",
            "Лучшие параметры для RandomForestClassifier(rec2):{'criterion': 'entropy', 'max_depth': 11, 'min_samples_split': 2}\n",
            "Лучший результат предсказания(rec1):0.9826746365027601\n",
            "Лучший результат предсказания(rec2):0.9699963696323234\n"
          ]
        }
      ]
    },
    {
      "cell_type": "code",
      "source": [
        "clf_forest1 = RandomForestClassifier(**grid_forest1.best_params_)\n",
        "clf_forest2 = RandomForestClassifier(**grid_forest2.best_params_)\n",
        "clf_forest1 = clf_forest1.fit(X,y1)\n",
        "clf_forest2 = clf_forest2.fit(X,y2)"
      ],
      "metadata": {
        "colab": {
          "base_uri": "https://localhost:8080/"
        },
        "id": "tnPrqLuyFCAR",
        "outputId": "ade6a2ad-5b15-4849-8582-df1870c0d441"
      },
      "execution_count": null,
      "outputs": [
        {
          "output_type": "execute_result",
          "data": {
            "text/plain": [
              "0.9875751108103324"
            ]
          },
          "metadata": {},
          "execution_count": 22
        }
      ]
    },
    {
      "cell_type": "code",
      "source": [
        "import joblib  # Сохранение лучших моделей\n",
        "joblib.dump(clf_forest1,\"forest1.pkl\")\n",
        "joblib.dump(clf_forest2,\"forest2.pkl\")"
      ],
      "metadata": {
        "colab": {
          "base_uri": "https://localhost:8080/"
        },
        "id": "J5ENeu3RJwAC",
        "outputId": "10279c71-1120-470a-cee3-efff4ea1f5e4"
      },
      "execution_count": null,
      "outputs": [
        {
          "output_type": "execute_result",
          "data": {
            "text/plain": [
              "['forest2.pkl']"
            ]
          },
          "metadata": {},
          "execution_count": 17
        }
      ]
    },
    {
      "cell_type": "markdown",
      "source": [
        "# **Аугментация данных**"
      ],
      "metadata": {
        "id": "ZjRLkrxreHi_"
      }
    },
    {
      "cell_type": "code",
      "source": [
        "test = X.loc[2]"
      ],
      "metadata": {
        "id": "ICW-9M6_NYpD"
      },
      "execution_count": null,
      "outputs": []
    },
    {
      "cell_type": "code",
      "source": [
        "len(test)"
      ],
      "metadata": {
        "colab": {
          "base_uri": "https://localhost:8080/"
        },
        "id": "5AvoLXzvN_t1",
        "outputId": "df1e1070-1109-4ef4-e7c5-42a159617135"
      },
      "execution_count": null,
      "outputs": [
        {
          "output_type": "execute_result",
          "data": {
            "text/plain": [
              "54"
            ]
          },
          "metadata": {},
          "execution_count": 29
        }
      ]
    },
    {
      "cell_type": "code",
      "source": [
        "import json"
      ],
      "metadata": {
        "id": "lNnipxDnO9Ys"
      },
      "execution_count": null,
      "outputs": []
    },
    {
      "cell_type": "code",
      "source": [
        "json.dumps({\"data\": [test.tolist()]})"
      ],
      "metadata": {
        "colab": {
          "base_uri": "https://localhost:8080/",
          "height": 53
        },
        "id": "8ubK67qANj6N",
        "outputId": "0d383b6d-1cc9-45c1-8fa9-5d2e702733c8"
      },
      "execution_count": null,
      "outputs": [
        {
          "output_type": "execute_result",
          "data": {
            "text/plain": [
              "'{\"data\": [[1.0, -1.0, -1.0, -1.0, -1.0, -1.0, -1.0, -1.0, 1.0, 8.5, 0.0, 0.0, 0.0, 0.0, 0.0, 0.0, 0.0, 0.0, 1.0, -1.0, -1.0, 0.0, -1.0, 0.0, 0.0, 2.0, 0.0, 0.0, 0.0, 0.0, 0.0, 0.0, 0.0, 0.0, 0.0, 0.0, 0.0, 0.0, 0.0, 0.0, 0.0, 0.0, 0.0, 0.0, 0.0, 0.0, 0.0, 0.0, 1.0, -1.0, 0.0, 0.0, 0.0, 0.0]]}'"
            ],
            "application/vnd.google.colaboratory.intrinsic+json": {
              "type": "string"
            }
          },
          "metadata": {},
          "execution_count": 31
        }
      ]
    },
    {
      "cell_type": "code",
      "source": [
        "clf3.predict(X)"
      ],
      "metadata": {
        "colab": {
          "base_uri": "https://localhost:8080/"
        },
        "id": "ppNcKD_jL0E8",
        "outputId": "2cc0b874-f1f2-402e-98d2-36f015397872"
      },
      "execution_count": null,
      "outputs": [
        {
          "output_type": "execute_result",
          "data": {
            "text/plain": [
              "array(['Minecraft', 'Minecraft', 'Minecraft', ..., 'Figma Basic',\n",
              "       'Figma Basic', 'Figma Basic'], dtype=object)"
            ]
          },
          "metadata": {},
          "execution_count": 19
        }
      ]
    },
    {
      "cell_type": "code",
      "source": [
        "s = y2 == clf2.predict(X)"
      ],
      "metadata": {
        "id": "O6cWscA7dEaR"
      },
      "execution_count": null,
      "outputs": []
    },
    {
      "cell_type": "code",
      "source": [
        "~s"
      ],
      "metadata": {
        "colab": {
          "base_uri": "https://localhost:8080/"
        },
        "id": "f6w-DGwGdyYT",
        "outputId": "b09a6135-9ea5-4c7d-91af-d43e50903bf7"
      },
      "execution_count": null,
      "outputs": [
        {
          "output_type": "execute_result",
          "data": {
            "text/plain": [
              "0      True\n",
              "1      True\n",
              "2      True\n",
              "3      True\n",
              "4      True\n",
              "       ... \n",
              "211    True\n",
              "212    True\n",
              "213    True\n",
              "214    True\n",
              "215    True\n",
              "Name: rec2, Length: 216, dtype: bool"
            ]
          },
          "metadata": {},
          "execution_count": 29
        }
      ]
    },
    {
      "cell_type": "code",
      "source": [
        "data.age==14.0"
      ],
      "metadata": {
        "id": "PnI10661eq-4",
        "colab": {
          "base_uri": "https://localhost:8080/"
        },
        "outputId": "e46250c7-badf-4c2e-a1ea-231873444675"
      },
      "execution_count": null,
      "outputs": [
        {
          "output_type": "execute_result",
          "data": {
            "text/plain": [
              "0       True\n",
              "1       True\n",
              "2       True\n",
              "3      False\n",
              "4      False\n",
              "       ...  \n",
              "211     True\n",
              "212     True\n",
              "213     True\n",
              "214     True\n",
              "215     True\n",
              "Name: age, Length: 216, dtype: bool"
            ]
          },
          "metadata": {},
          "execution_count": 30
        }
      ]
    },
    {
      "cell_type": "code",
      "source": [
        "data[~s]"
      ],
      "metadata": {
        "id": "UYd7xuLweEeF",
        "colab": {
          "base_uri": "https://localhost:8080/",
          "height": 678
        },
        "outputId": "ab41b97e-fc5e-4874-be9c-b34032fe3ff2"
      },
      "execution_count": null,
      "outputs": [
        {
          "output_type": "execute_result",
          "data": {
            "text/plain": [
              "     is_female  type_fast  can_save_file  can_make_doc  know_comb  \\\n",
              "0            1          1              1             1          1   \n",
              "1            1          1              1             1          1   \n",
              "2           -1          1              1             1          1   \n",
              "3            1         -1              1             1          1   \n",
              "4           -1         -1              1             1          1   \n",
              "..         ...        ...            ...           ...        ...   \n",
              "211          1          1              1             1          1   \n",
              "212         -1         -1              1             1          1   \n",
              "213          1          1              1             1          1   \n",
              "214         -1          1              1             1          1   \n",
              "215          1         -1              1             1          1   \n",
              "\n",
              "     files_on_flash  can_use_internet  like_draw  wanna_make_game   age  ...  \\\n",
              "0                 1                 1          1               -1  14.0  ...   \n",
              "1                 1                 1          1                1  14.0  ...   \n",
              "2                 1                 1          1                1  14.0  ...   \n",
              "3                 1                 1          1                1   8.5  ...   \n",
              "4                 1                 1         -1                1  11.0  ...   \n",
              "..              ...               ...        ...              ...   ...  ...   \n",
              "211               1                 1          1               -1  14.0  ...   \n",
              "212               1                 1          1               -1  14.0  ...   \n",
              "213              -1                 1          1               -1  14.0  ...   \n",
              "214               1                 1          1               -1  14.0  ...   \n",
              "215               1                 1          1               -1  14.0  ...   \n",
              "\n",
              "     wanna_mobile_game  like_design                rec1                rec2  \\\n",
              "0                   -1            1  Python \"Нейросети\"    Python \"Чат-бот\"   \n",
              "1                   -1            1     web- разработка    Python \"Чат-бот\"   \n",
              "2                   -1            1     web- разработка       Python основы   \n",
              "3                    0            0            CoSpaces              Roblox   \n",
              "4                    0            0           Minecraft  Python в Minecraft   \n",
              "..                 ...          ...                 ...                 ...   \n",
              "211                 -1            1          web-дизайн         Figma Basic   \n",
              "212                 -1            1          web-дизайн         Figma Basic   \n",
              "213                 -1            1          web-дизайн         Figma Basic   \n",
              "214                 -1            1          web-дизайн         Figma Basic   \n",
              "215                 -1            1          web-дизайн         Figma Basic   \n",
              "\n",
              "     learn_prog_minecraft  wanna_3Dobjects  like_puzzles  wanna_logics_ex  \\\n",
              "0                       0               -1             1                1   \n",
              "1                       0                1             1               -1   \n",
              "2                       0               -1             1                1   \n",
              "3                       1                1             0                0   \n",
              "4                       1                1            -1               -1   \n",
              "..                    ...              ...           ...              ...   \n",
              "211                     0               -1             1               -1   \n",
              "212                     0               -1            -1               -1   \n",
              "213                     0               -1             1               -1   \n",
              "214                     0               -1            -1               -1   \n",
              "215                     0               -1            -1               -1   \n",
              "\n",
              "     wanna_app  know_unity  \n",
              "0            1           1  \n",
              "1            1           1  \n",
              "2            1           1  \n",
              "3            0           0  \n",
              "4           -1          -1  \n",
              "..         ...         ...  \n",
              "211         -1           1  \n",
              "212         -1          -1  \n",
              "213         -1           1  \n",
              "214         -1          -1  \n",
              "215         -1           1  \n",
              "\n",
              "[208 rows x 56 columns]"
            ],
            "text/html": [
              "\n",
              "  <div id=\"df-b9817c33-333f-4d41-b26f-4a316e63cc7c\">\n",
              "    <div class=\"colab-df-container\">\n",
              "      <div>\n",
              "<style scoped>\n",
              "    .dataframe tbody tr th:only-of-type {\n",
              "        vertical-align: middle;\n",
              "    }\n",
              "\n",
              "    .dataframe tbody tr th {\n",
              "        vertical-align: top;\n",
              "    }\n",
              "\n",
              "    .dataframe thead th {\n",
              "        text-align: right;\n",
              "    }\n",
              "</style>\n",
              "<table border=\"1\" class=\"dataframe\">\n",
              "  <thead>\n",
              "    <tr style=\"text-align: right;\">\n",
              "      <th></th>\n",
              "      <th>is_female</th>\n",
              "      <th>type_fast</th>\n",
              "      <th>can_save_file</th>\n",
              "      <th>can_make_doc</th>\n",
              "      <th>know_comb</th>\n",
              "      <th>files_on_flash</th>\n",
              "      <th>can_use_internet</th>\n",
              "      <th>like_draw</th>\n",
              "      <th>wanna_make_game</th>\n",
              "      <th>age</th>\n",
              "      <th>...</th>\n",
              "      <th>wanna_mobile_game</th>\n",
              "      <th>like_design</th>\n",
              "      <th>rec1</th>\n",
              "      <th>rec2</th>\n",
              "      <th>learn_prog_minecraft</th>\n",
              "      <th>wanna_3Dobjects</th>\n",
              "      <th>like_puzzles</th>\n",
              "      <th>wanna_logics_ex</th>\n",
              "      <th>wanna_app</th>\n",
              "      <th>know_unity</th>\n",
              "    </tr>\n",
              "  </thead>\n",
              "  <tbody>\n",
              "    <tr>\n",
              "      <th>0</th>\n",
              "      <td>1</td>\n",
              "      <td>1</td>\n",
              "      <td>1</td>\n",
              "      <td>1</td>\n",
              "      <td>1</td>\n",
              "      <td>1</td>\n",
              "      <td>1</td>\n",
              "      <td>1</td>\n",
              "      <td>-1</td>\n",
              "      <td>14.0</td>\n",
              "      <td>...</td>\n",
              "      <td>-1</td>\n",
              "      <td>1</td>\n",
              "      <td>Python \"Нейросети\"</td>\n",
              "      <td>Python \"Чат-бот\"</td>\n",
              "      <td>0</td>\n",
              "      <td>-1</td>\n",
              "      <td>1</td>\n",
              "      <td>1</td>\n",
              "      <td>1</td>\n",
              "      <td>1</td>\n",
              "    </tr>\n",
              "    <tr>\n",
              "      <th>1</th>\n",
              "      <td>1</td>\n",
              "      <td>1</td>\n",
              "      <td>1</td>\n",
              "      <td>1</td>\n",
              "      <td>1</td>\n",
              "      <td>1</td>\n",
              "      <td>1</td>\n",
              "      <td>1</td>\n",
              "      <td>1</td>\n",
              "      <td>14.0</td>\n",
              "      <td>...</td>\n",
              "      <td>-1</td>\n",
              "      <td>1</td>\n",
              "      <td>web- разработка</td>\n",
              "      <td>Python \"Чат-бот\"</td>\n",
              "      <td>0</td>\n",
              "      <td>1</td>\n",
              "      <td>1</td>\n",
              "      <td>-1</td>\n",
              "      <td>1</td>\n",
              "      <td>1</td>\n",
              "    </tr>\n",
              "    <tr>\n",
              "      <th>2</th>\n",
              "      <td>-1</td>\n",
              "      <td>1</td>\n",
              "      <td>1</td>\n",
              "      <td>1</td>\n",
              "      <td>1</td>\n",
              "      <td>1</td>\n",
              "      <td>1</td>\n",
              "      <td>1</td>\n",
              "      <td>1</td>\n",
              "      <td>14.0</td>\n",
              "      <td>...</td>\n",
              "      <td>-1</td>\n",
              "      <td>1</td>\n",
              "      <td>web- разработка</td>\n",
              "      <td>Python основы</td>\n",
              "      <td>0</td>\n",
              "      <td>-1</td>\n",
              "      <td>1</td>\n",
              "      <td>1</td>\n",
              "      <td>1</td>\n",
              "      <td>1</td>\n",
              "    </tr>\n",
              "    <tr>\n",
              "      <th>3</th>\n",
              "      <td>1</td>\n",
              "      <td>-1</td>\n",
              "      <td>1</td>\n",
              "      <td>1</td>\n",
              "      <td>1</td>\n",
              "      <td>1</td>\n",
              "      <td>1</td>\n",
              "      <td>1</td>\n",
              "      <td>1</td>\n",
              "      <td>8.5</td>\n",
              "      <td>...</td>\n",
              "      <td>0</td>\n",
              "      <td>0</td>\n",
              "      <td>CoSpaces</td>\n",
              "      <td>Roblox</td>\n",
              "      <td>1</td>\n",
              "      <td>1</td>\n",
              "      <td>0</td>\n",
              "      <td>0</td>\n",
              "      <td>0</td>\n",
              "      <td>0</td>\n",
              "    </tr>\n",
              "    <tr>\n",
              "      <th>4</th>\n",
              "      <td>-1</td>\n",
              "      <td>-1</td>\n",
              "      <td>1</td>\n",
              "      <td>1</td>\n",
              "      <td>1</td>\n",
              "      <td>1</td>\n",
              "      <td>1</td>\n",
              "      <td>-1</td>\n",
              "      <td>1</td>\n",
              "      <td>11.0</td>\n",
              "      <td>...</td>\n",
              "      <td>0</td>\n",
              "      <td>0</td>\n",
              "      <td>Minecraft</td>\n",
              "      <td>Python в Minecraft</td>\n",
              "      <td>1</td>\n",
              "      <td>1</td>\n",
              "      <td>-1</td>\n",
              "      <td>-1</td>\n",
              "      <td>-1</td>\n",
              "      <td>-1</td>\n",
              "    </tr>\n",
              "    <tr>\n",
              "      <th>...</th>\n",
              "      <td>...</td>\n",
              "      <td>...</td>\n",
              "      <td>...</td>\n",
              "      <td>...</td>\n",
              "      <td>...</td>\n",
              "      <td>...</td>\n",
              "      <td>...</td>\n",
              "      <td>...</td>\n",
              "      <td>...</td>\n",
              "      <td>...</td>\n",
              "      <td>...</td>\n",
              "      <td>...</td>\n",
              "      <td>...</td>\n",
              "      <td>...</td>\n",
              "      <td>...</td>\n",
              "      <td>...</td>\n",
              "      <td>...</td>\n",
              "      <td>...</td>\n",
              "      <td>...</td>\n",
              "      <td>...</td>\n",
              "      <td>...</td>\n",
              "    </tr>\n",
              "    <tr>\n",
              "      <th>211</th>\n",
              "      <td>1</td>\n",
              "      <td>1</td>\n",
              "      <td>1</td>\n",
              "      <td>1</td>\n",
              "      <td>1</td>\n",
              "      <td>1</td>\n",
              "      <td>1</td>\n",
              "      <td>1</td>\n",
              "      <td>-1</td>\n",
              "      <td>14.0</td>\n",
              "      <td>...</td>\n",
              "      <td>-1</td>\n",
              "      <td>1</td>\n",
              "      <td>web-дизайн</td>\n",
              "      <td>Figma Basic</td>\n",
              "      <td>0</td>\n",
              "      <td>-1</td>\n",
              "      <td>1</td>\n",
              "      <td>-1</td>\n",
              "      <td>-1</td>\n",
              "      <td>1</td>\n",
              "    </tr>\n",
              "    <tr>\n",
              "      <th>212</th>\n",
              "      <td>-1</td>\n",
              "      <td>-1</td>\n",
              "      <td>1</td>\n",
              "      <td>1</td>\n",
              "      <td>1</td>\n",
              "      <td>1</td>\n",
              "      <td>1</td>\n",
              "      <td>1</td>\n",
              "      <td>-1</td>\n",
              "      <td>14.0</td>\n",
              "      <td>...</td>\n",
              "      <td>-1</td>\n",
              "      <td>1</td>\n",
              "      <td>web-дизайн</td>\n",
              "      <td>Figma Basic</td>\n",
              "      <td>0</td>\n",
              "      <td>-1</td>\n",
              "      <td>-1</td>\n",
              "      <td>-1</td>\n",
              "      <td>-1</td>\n",
              "      <td>-1</td>\n",
              "    </tr>\n",
              "    <tr>\n",
              "      <th>213</th>\n",
              "      <td>1</td>\n",
              "      <td>1</td>\n",
              "      <td>1</td>\n",
              "      <td>1</td>\n",
              "      <td>1</td>\n",
              "      <td>-1</td>\n",
              "      <td>1</td>\n",
              "      <td>1</td>\n",
              "      <td>-1</td>\n",
              "      <td>14.0</td>\n",
              "      <td>...</td>\n",
              "      <td>-1</td>\n",
              "      <td>1</td>\n",
              "      <td>web-дизайн</td>\n",
              "      <td>Figma Basic</td>\n",
              "      <td>0</td>\n",
              "      <td>-1</td>\n",
              "      <td>1</td>\n",
              "      <td>-1</td>\n",
              "      <td>-1</td>\n",
              "      <td>1</td>\n",
              "    </tr>\n",
              "    <tr>\n",
              "      <th>214</th>\n",
              "      <td>-1</td>\n",
              "      <td>1</td>\n",
              "      <td>1</td>\n",
              "      <td>1</td>\n",
              "      <td>1</td>\n",
              "      <td>1</td>\n",
              "      <td>1</td>\n",
              "      <td>1</td>\n",
              "      <td>-1</td>\n",
              "      <td>14.0</td>\n",
              "      <td>...</td>\n",
              "      <td>-1</td>\n",
              "      <td>1</td>\n",
              "      <td>web-дизайн</td>\n",
              "      <td>Figma Basic</td>\n",
              "      <td>0</td>\n",
              "      <td>-1</td>\n",
              "      <td>-1</td>\n",
              "      <td>-1</td>\n",
              "      <td>-1</td>\n",
              "      <td>-1</td>\n",
              "    </tr>\n",
              "    <tr>\n",
              "      <th>215</th>\n",
              "      <td>1</td>\n",
              "      <td>-1</td>\n",
              "      <td>1</td>\n",
              "      <td>1</td>\n",
              "      <td>1</td>\n",
              "      <td>1</td>\n",
              "      <td>1</td>\n",
              "      <td>1</td>\n",
              "      <td>-1</td>\n",
              "      <td>14.0</td>\n",
              "      <td>...</td>\n",
              "      <td>-1</td>\n",
              "      <td>1</td>\n",
              "      <td>web-дизайн</td>\n",
              "      <td>Figma Basic</td>\n",
              "      <td>0</td>\n",
              "      <td>-1</td>\n",
              "      <td>-1</td>\n",
              "      <td>-1</td>\n",
              "      <td>-1</td>\n",
              "      <td>1</td>\n",
              "    </tr>\n",
              "  </tbody>\n",
              "</table>\n",
              "<p>208 rows × 56 columns</p>\n",
              "</div>\n",
              "      <button class=\"colab-df-convert\" onclick=\"convertToInteractive('df-b9817c33-333f-4d41-b26f-4a316e63cc7c')\"\n",
              "              title=\"Convert this dataframe to an interactive table.\"\n",
              "              style=\"display:none;\">\n",
              "        \n",
              "  <svg xmlns=\"http://www.w3.org/2000/svg\" height=\"24px\"viewBox=\"0 0 24 24\"\n",
              "       width=\"24px\">\n",
              "    <path d=\"M0 0h24v24H0V0z\" fill=\"none\"/>\n",
              "    <path d=\"M18.56 5.44l.94 2.06.94-2.06 2.06-.94-2.06-.94-.94-2.06-.94 2.06-2.06.94zm-11 1L8.5 8.5l.94-2.06 2.06-.94-2.06-.94L8.5 2.5l-.94 2.06-2.06.94zm10 10l.94 2.06.94-2.06 2.06-.94-2.06-.94-.94-2.06-.94 2.06-2.06.94z\"/><path d=\"M17.41 7.96l-1.37-1.37c-.4-.4-.92-.59-1.43-.59-.52 0-1.04.2-1.43.59L10.3 9.45l-7.72 7.72c-.78.78-.78 2.05 0 2.83L4 21.41c.39.39.9.59 1.41.59.51 0 1.02-.2 1.41-.59l7.78-7.78 2.81-2.81c.8-.78.8-2.07 0-2.86zM5.41 20L4 18.59l7.72-7.72 1.47 1.35L5.41 20z\"/>\n",
              "  </svg>\n",
              "      </button>\n",
              "      \n",
              "  <style>\n",
              "    .colab-df-container {\n",
              "      display:flex;\n",
              "      flex-wrap:wrap;\n",
              "      gap: 12px;\n",
              "    }\n",
              "\n",
              "    .colab-df-convert {\n",
              "      background-color: #E8F0FE;\n",
              "      border: none;\n",
              "      border-radius: 50%;\n",
              "      cursor: pointer;\n",
              "      display: none;\n",
              "      fill: #1967D2;\n",
              "      height: 32px;\n",
              "      padding: 0 0 0 0;\n",
              "      width: 32px;\n",
              "    }\n",
              "\n",
              "    .colab-df-convert:hover {\n",
              "      background-color: #E2EBFA;\n",
              "      box-shadow: 0px 1px 2px rgba(60, 64, 67, 0.3), 0px 1px 3px 1px rgba(60, 64, 67, 0.15);\n",
              "      fill: #174EA6;\n",
              "    }\n",
              "\n",
              "    [theme=dark] .colab-df-convert {\n",
              "      background-color: #3B4455;\n",
              "      fill: #D2E3FC;\n",
              "    }\n",
              "\n",
              "    [theme=dark] .colab-df-convert:hover {\n",
              "      background-color: #434B5C;\n",
              "      box-shadow: 0px 1px 3px 1px rgba(0, 0, 0, 0.15);\n",
              "      filter: drop-shadow(0px 1px 2px rgba(0, 0, 0, 0.3));\n",
              "      fill: #FFFFFF;\n",
              "    }\n",
              "  </style>\n",
              "\n",
              "      <script>\n",
              "        const buttonEl =\n",
              "          document.querySelector('#df-b9817c33-333f-4d41-b26f-4a316e63cc7c button.colab-df-convert');\n",
              "        buttonEl.style.display =\n",
              "          google.colab.kernel.accessAllowed ? 'block' : 'none';\n",
              "\n",
              "        async function convertToInteractive(key) {\n",
              "          const element = document.querySelector('#df-b9817c33-333f-4d41-b26f-4a316e63cc7c');\n",
              "          const dataTable =\n",
              "            await google.colab.kernel.invokeFunction('convertToInteractive',\n",
              "                                                     [key], {});\n",
              "          if (!dataTable) return;\n",
              "\n",
              "          const docLinkHtml = 'Like what you see? Visit the ' +\n",
              "            '<a target=\"_blank\" href=https://colab.research.google.com/notebooks/data_table.ipynb>data table notebook</a>'\n",
              "            + ' to learn more about interactive tables.';\n",
              "          element.innerHTML = '';\n",
              "          dataTable['output_type'] = 'display_data';\n",
              "          await google.colab.output.renderOutput(dataTable, element);\n",
              "          const docLink = document.createElement('div');\n",
              "          docLink.innerHTML = docLinkHtml;\n",
              "          element.appendChild(docLink);\n",
              "        }\n",
              "      </script>\n",
              "    </div>\n",
              "  </div>\n",
              "  "
            ]
          },
          "metadata": {},
          "execution_count": 31
        }
      ]
    },
    {
      "cell_type": "code",
      "source": [
        "clf2.predict(X)[~s]"
      ],
      "metadata": {
        "colab": {
          "base_uri": "https://localhost:8080/"
        },
        "id": "cgq9huqOebFy",
        "outputId": "d8d24d28-9fa1-4092-f0fe-3e14a99d4b9f"
      },
      "execution_count": null,
      "outputs": [
        {
          "output_type": "execute_result",
          "data": {
            "text/plain": [
              "array(['Python \"Нейросети\"', 'web- разработка', 'web- разработка',\n",
              "       'CoSpaces', 'Minecraft', 'Компьютерная грамотность',\n",
              "       'web- разработка', 'Python \"Чат-бот\"', 'web- разработка',\n",
              "       'web- разработка', 'web- разработка', 'Minecraft', 'Roblox',\n",
              "       'Компьютерная грамотность', 'Компьютерная грамотность',\n",
              "       'Компьютерная грамотность', 'Unity', 'Unity', 'web- разработка',\n",
              "       'web- разработка', 'ScratchJr', 'codu', 'codu', 'ScratchJr',\n",
              "       'ScratchJr', 'Scratch 3', 'Python \"Нейросети\"', 'Minecraft',\n",
              "       'ScratchJr', 'Python основы', 'Создание приложений', 'Roblox',\n",
              "       'Создание приложений', 'web- разработка', 'Python \"Нейросети\"',\n",
              "       'Godot', 'Roblox', 'web- разработка', 'Python основы', 'ScratchJr',\n",
              "       'web- разработка', 'Python основы', 'Компьютерная грамотность',\n",
              "       'Компьютерная грамотность', 'web- разработка', 'Roblox',\n",
              "       'Scratch 3', 'ScratchJr', 'web- разработка', 'Minecraft',\n",
              "       'web- разработка', 'ScratchJr', 'Компьютерная грамотность',\n",
              "       'Python \"Нейросети\"', 'web- разработка', 'изуение PHP',\n",
              "       'web- разработка', 'web- разработка', 'web- разработка',\n",
              "       'Кибербезопасность', 'Godot', 'Компьютерная грамотность',\n",
              "       'Minecraft', 'web- разработка', 'web- разработка',\n",
              "       'Компьютерная грамотность', 'Компьютерная грамотность',\n",
              "       'Создание приложений', 'Компьютерная грамотность',\n",
              "       'Компьютерная грамотность', 'Компьютерная грамотность',\n",
              "       'Компьютерная грамотность', 'Python основы',\n",
              "       'Компьютерная грамотность', 'Roblox', 'Roblox',\n",
              "       'Компьютерная грамотность', 'web- разработка', 'web- разработка',\n",
              "       'Компьютерная грамотность', 'Компьютерная грамотность',\n",
              "       'web-дизайн', 'web-дизайн', 'web-дизайн', 'web-дизайн',\n",
              "       'web- разработка', 'Python основы', 'Python основы',\n",
              "       'Создание приложений', 'Roblox', 'Создание приложений',\n",
              "       'Компьютерная грамотность', 'Python основы', 'Python \"Чат-бот\"',\n",
              "       'Python основы', 'Roblox', 'Roblox', 'Roblox', 'Python основы',\n",
              "       'Roblox', 'Roblox', 'Компьютерная грамотность', 'Roblox', 'Roblox',\n",
              "       'Компьютерная грамотность', 'Компьютерная грамотность',\n",
              "       'Компьютерная грамотность', 'Компьютерная грамотность',\n",
              "       'Компьютерная грамотность', 'Компьютерная грамотность',\n",
              "       'Компьютерная грамотность', 'Компьютерная грамотность', 'CoSpaces',\n",
              "       'Компьютерная грамотность', 'Scratch 3',\n",
              "       'Компьютерная грамотность', 'Компьютерная грамотность',\n",
              "       'Компьютерная грамотность', 'Компьютерная грамотность', 'CoSpaces',\n",
              "       'Компьютерная грамотность', 'Компьютерная грамотность',\n",
              "       'Компьютерная грамотность', 'Компьютерная грамотность',\n",
              "       'Компьютерная грамотность', 'Компьютерная грамотность',\n",
              "       'Компьютерная грамотность', 'Компьютерная грамотность',\n",
              "       'Компьютерная грамотность', 'Компьютерная грамотность',\n",
              "       'Компьютерная грамотность', 'Компьютерная грамотность',\n",
              "       'Компьютерная грамотность', 'Roblox', 'Roblox', 'CoSpaces',\n",
              "       'Roblox', 'Roblox', 'Minecraft', 'Python основы', 'CoSpaces',\n",
              "       'Roblox', 'Roblox', 'Создание приложений', 'Roblox', 'Roblox',\n",
              "       'web- разработка', 'Компьютерная грамотность',\n",
              "       'Компьютерная грамотность', 'Компьютерная грамотность',\n",
              "       'Компьютерная грамотность', 'Компьютерная грамотность',\n",
              "       'Компьютерная грамотность', 'Компьютерная грамотность',\n",
              "       'Компьютерная грамотность', 'CoSpaces', 'CoSpaces', 'CoSpaces',\n",
              "       'CoSpaces', 'CoSpaces', 'Scratch 3', 'Scratch 3', 'Scratch 3',\n",
              "       'Scratch 3', 'Scratch 3', 'Scratch 3', 'Scratch 3',\n",
              "       'Python \"Чат-бот\"', 'Python \"Чат-бот\"', 'Python \"Чат-бот\"',\n",
              "       'Python \"Чат-бот\"', 'Python \"Чат-бот\"', 'Python \"Чат-бот\"',\n",
              "       'Python \"Чат-бот\"', 'Кибербезопасность', 'Кибербезопасность',\n",
              "       'изуение PHP', 'изуение PHP', 'изуение PHP', 'изуение PHP',\n",
              "       'изуение PHP', 'Minecraft', 'Minecraft', 'Godot', 'Godot', 'Godot',\n",
              "       'Godot', 'Godot', 'Godot', 'Кибербезопасность',\n",
              "       'Кибербезопасность', 'Unity', 'codu', 'codu', 'codu', 'codu',\n",
              "       'codu', 'codu', 'codu', 'Minecraft', 'Minecraft', 'Minecraft',\n",
              "       'Minecraft', 'web-дизайн', 'web-дизайн', 'web-дизайн',\n",
              "       'web-дизайн', 'web-дизайн'], dtype=object)"
            ]
          },
          "metadata": {},
          "execution_count": 32
        }
      ]
    },
    {
      "cell_type": "code",
      "source": [
        "clf.feature_names_in_"
      ],
      "metadata": {
        "id": "Ft-rN7OVffPb",
        "colab": {
          "base_uri": "https://localhost:8080/"
        },
        "outputId": "1c475026-744d-4006-df11-bb7a30471f9f"
      },
      "execution_count": null,
      "outputs": [
        {
          "output_type": "execute_result",
          "data": {
            "text/plain": [
              "array(['is_female', 'type_fast', 'can_save_file', 'can_make_doc',\n",
              "       'know_comb', 'files_on_flash', 'can_use_internet', 'like_draw',\n",
              "       'wanna_make_game', 'age', 'made_scratch', 'like_cartoons',\n",
              "       'can_make_animation', 'wanna_cartoon_character',\n",
              "       'wanna_make_cartoon', 'made_cartoon', 'voice_cartoon',\n",
              "       'wanna_edit_photo', 'wanna_3D_world', 'can_prog_turtle',\n",
              "       'can_scretch', 'self_prog', 'made_3d_2d_game', 'wanna_web_design',\n",
              "       'like_gesign', 'scale_logics_ex', 'made_site', 'scale_roblox',\n",
              "       'programmed_roblox', 'scale_draw_design', 'wanna_web_desig',\n",
              "       'scale_web_design', 'learn_web_logic', 'scale_web_logic',\n",
              "       'wanna_make_site', 'wanna_AI', 'wanna_bot', 'know_Python',\n",
              "       'know_С++', 'know_С#', 'know_JS', 'wanna_animation', 'wanna_virus',\n",
              "       'know_security', 'wanna_security_threats', 'wanna_code',\n",
              "       'wanna_mobile_game', 'like_design', 'learn_prog_minecraft',\n",
              "       'wanna_3Dobjects', 'like_puzzles', 'wanna_logics_ex', 'wanna_app',\n",
              "       'know_unity'], dtype=object)"
            ]
          },
          "metadata": {},
          "execution_count": 24
        }
      ]
    },
    {
      "cell_type": "code",
      "source": [
        "d={}\n",
        "for column in data.columns:\n",
        "  d[column]=np.unique(data[column]).tolist()\n"
      ],
      "metadata": {
        "id": "CeUolpjbszRS"
      },
      "execution_count": null,
      "outputs": []
    },
    {
      "cell_type": "code",
      "source": [
        "import random\n",
        "random.choice(d['can_make_animation'])\n"
      ],
      "metadata": {
        "colab": {
          "base_uri": "https://localhost:8080/"
        },
        "id": "PhqI4dSAum6N",
        "outputId": "3511f661-77a7-40c1-c84f-ed69f47e17c1"
      },
      "execution_count": null,
      "outputs": [
        {
          "output_type": "execute_result",
          "data": {
            "text/plain": [
              "0"
            ]
          },
          "metadata": {},
          "execution_count": 22
        }
      ]
    },
    {
      "cell_type": "code",
      "source": [
        "data[[\"rec1\", \"rec2\"]].value_counts().reset_index()['rec1']"
      ],
      "metadata": {
        "id": "vlhoL8DJyMbn",
        "colab": {
          "base_uri": "https://localhost:8080/"
        },
        "outputId": "f854ca73-beb8-4525-f1d1-2a6c7deab83b"
      },
      "execution_count": null,
      "outputs": [
        {
          "output_type": "execute_result",
          "data": {
            "text/plain": [
              "0     Компьютерная грамотность\n",
              "1     Компьютерная грамотность\n",
              "2                       Roblox\n",
              "3     Компьютерная грамотность\n",
              "4                     CoSpaces\n",
              "5                    Scratch 3\n",
              "6                         codu\n",
              "7                       Roblox\n",
              "8                Python основы\n",
              "9                    Minecraft\n",
              "10             web- разработка\n",
              "11                       Godot\n",
              "12                 изуение PHP\n",
              "13                  web-дизайн\n",
              "14               Python основы\n",
              "15                   Minecraft\n",
              "16                   ScratchJr\n",
              "17             web- разработка\n",
              "18          Python \"Нейросети\"\n",
              "19                  web-дизайн\n",
              "20         Создание приложений\n",
              "21                   ScratchJr\n",
              "22             web- разработка\n",
              "23             web- разработка\n",
              "24    Компьютерная грамотность\n",
              "25    Компьютерная грамотность\n",
              "26            Python \"Чат-бот\"\n",
              "27            Python \"Чат-бот\"\n",
              "28                       Unity\n",
              "29                       Godot\n",
              "30         Создание приложений\n",
              "31               Python основы\n",
              "32             web- разработка\n",
              "33             web- разработка\n",
              "34    Компьютерная грамотность\n",
              "35           Кибербезопасность\n",
              "36    Компьютерная грамотность\n",
              "37    Компьютерная грамотность\n",
              "38                       Godot\n",
              "39         Создание приложений\n",
              "40                   Minecraft\n",
              "41             web- разработка\n",
              "42           Кибербезопасность\n",
              "43           Кибербезопасность\n",
              "44           Кибербезопасность\n",
              "45          Python \"Нейросети\"\n",
              "46             web- разработка\n",
              "47                       Unity\n",
              "48                       Unity\n",
              "49                      Roblox\n",
              "50               Python основы\n",
              "51            Python \"Чат-бот\"\n",
              "52            Python \"Чат-бот\"\n",
              "53          Python \"Нейросети\"\n",
              "54                 изуение PHP\n",
              "Name: rec1, dtype: object"
            ]
          },
          "metadata": {},
          "execution_count": 23
        }
      ]
    },
    {
      "cell_type": "code",
      "source": [
        "for index, row in data[[\"rec1\", \"rec2\"]].value_counts().reset_index().iterrows():\n",
        "\n",
        "  print(\"\\'\" + row['rec1'] + \"\\',\\'\" + row['rec2'] + \"\\'\")"
      ],
      "metadata": {
        "colab": {
          "base_uri": "https://localhost:8080/"
        },
        "id": "UEmqg9I5v9Yw",
        "outputId": "8d803285-dc42-410e-c124-22cc5d2c1a9c"
      },
      "execution_count": null,
      "outputs": [
        {
          "output_type": "stream",
          "name": "stdout",
          "text": [
            "'Компьютерная грамотность','Minecraft'\n",
            "'Компьютерная грамотность','Roblox'\n",
            "'Roblox','Python основы'\n",
            "'Компьютерная грамотность','Scratch 3'\n",
            "'CoSpaces','Roblox'\n",
            "'Scratch 3','CoSpaces'\n",
            "'codu','Gif-анимация'\n",
            "'Roblox','Создание приложений'\n",
            "'Python основы','Python в Minecraft'\n",
            "'Minecraft','Python основы'\n",
            "'web- разработка','Изучение JavaScript'\n",
            "'Godot','Игровой JavaScript'\n",
            "'изуение PHP','Figma Basic'\n",
            "'web-дизайн','Figma Basic'\n",
            "'Python основы','Создание приложений'\n",
            "'Minecraft','Scratch 3'\n",
            "'ScratchJr','Gif-анимация'\n",
            "'web- разработка','Python основы'\n",
            "'Python \"Нейросети\"','Python \"Чат-бот\"'\n",
            "'web-дизайн','web- разработка'\n",
            "'Создание приложений','Векторная графика'\n",
            "'ScratchJr','codu'\n",
            "'web- разработка','Python \"Нейросети\"'\n",
            "'web- разработка','web-дизайн'\n",
            "'Компьютерная грамотность','web- разработка'\n",
            "'Компьютерная грамотность','Кибербезопасность'\n",
            "'Python \"Чат-бот\"','Создание приложений'\n",
            "'Python \"Чат-бот\"','Изучение JavaScript'\n",
            "'Unity','Создание приложений'\n",
            "'Godot','Python \"Нейросети\"'\n",
            "'Создание приложений','Python основы'\n",
            "'Python основы','Python \"Нейросети\"'\n",
            "'web- разработка','Векторная графика'\n",
            "'web- разработка','Создание приложений'\n",
            "'Компьютерная грамотность','Python основы'\n",
            "'Кибербезопасность','Python \"Чат-бот\"'\n",
            "'Компьютерная грамотность','Unity'\n",
            "'Компьютерная грамотность','CoSpaces'\n",
            "'Godot','Python \"Чат-бот\"'\n",
            "'Создание приложений','Unity'\n",
            "'Minecraft','Python в Minecraft'\n",
            "'web- разработка','Unity'\n",
            "'Кибербезопасность','Игры на Python'\n",
            "'Кибербезопасность','Векторная графика'\n",
            "'Кибербезопасность','Python \"Нейросети\"'\n",
            "'Python \"Нейросети\"','Изучение JavaScript'\n",
            "'web- разработка','Python \"Чат-бот\"'\n",
            "'Unity','Векторная графика'\n",
            "'Unity','web- разработка'\n",
            "'Roblox','web- разработка'\n",
            "'Python основы','Python \"Чат-бот\"'\n",
            "'Python \"Чат-бот\"','Основы С++'\n",
            "'Python \"Чат-бот\"','Python \"Нейросети\"'\n",
            "'Python \"Нейросети\"','Основы С++'\n",
            "'изуение PHP','Кибербезопасность'\n"
          ]
        }
      ]
    },
    {
      "cell_type": "code",
      "source": [
        "allowed=['is_female', 'wanna_animation','like_draw',\n",
        "        'know_С++', 'know_С#', 'know_Python',\n",
        "       'like_design',\n",
        "        'like_puzzles',\n",
        "       'wanna_logics_ex', 'know_unity']"
      ],
      "metadata": {
        "id": "6gsrkv_GuUQ-"
      },
      "execution_count": null,
      "outputs": []
    },
    {
      "cell_type": "code",
      "source": [
        "def oversample(df,targets,n_sample,allowed_columns):\n",
        "    samples=df[(df['rec1']==targets[0])&(df['rec2']==targets[1])].sample(n_sample,replace=True)\n",
        "    for allowed_column in allowed_columns:\n",
        "      samples[allowed_column]=np.random.choice(d[allowed_column],n_sample)\n",
        "    samples.to_excel(f\"/content/drive/MyDrive/все предметы/4 курс/диплом/df/{targets[0]+targets[1]}.xlsx\")\n",
        "    return samples\n"
      ],
      "metadata": {
        "id": "ZvPFGV-Ah-eC"
      },
      "execution_count": null,
      "outputs": []
    },
    {
      "cell_type": "code",
      "source": [
        "base_path=\"/content/drive/MyDrive/все предметы/4 курс/диплом/df/\""
      ],
      "metadata": {
        "id": "KWYjJhhhz8KJ"
      },
      "execution_count": null,
      "outputs": []
    },
    {
      "cell_type": "code",
      "source": [
        "import os\n",
        "dfs=[]\n",
        "for element in os.listdir(base_path):\n",
        "  dfs.append(pd.read_excel(base_path+element))\n"
      ],
      "metadata": {
        "id": "OqrV8RA20MIT"
      },
      "execution_count": null,
      "outputs": []
    },
    {
      "cell_type": "code",
      "source": [
        "dfs.append(data)"
      ],
      "metadata": {
        "id": "xI4LusNZ2vmN"
      },
      "execution_count": null,
      "outputs": []
    },
    {
      "cell_type": "code",
      "source": [
        "\n",
        "new_data=pd.concat(dfs).reset_index().drop(columns=['index'])\n",
        "new_data.to_excel('/content/drive/MyDrive/все предметы/4 курс/диплом/data_ne.xlsx')"
      ],
      "metadata": {
        "id": "s8WOA5Os2JbL"
      },
      "execution_count": null,
      "outputs": []
    },
    {
      "cell_type": "code",
      "source": [
        "oversample(data,('изуение PHP','Кибербезопасность'),30,allowed)"
      ],
      "metadata": {
        "id": "skrgnjj6xRsO",
        "colab": {
          "base_uri": "https://localhost:8080/",
          "height": 1000
        },
        "outputId": "709095b1-21d3-4150-edcc-7265cdfafe90"
      },
      "execution_count": null,
      "outputs": [
        {
          "output_type": "execute_result",
          "data": {
            "text/plain": [
              "    is_female  type_fast  can_save_file  can_make_doc  know_comb  \\\n",
              "56         -1          1              1             1          1   \n",
              "56         -1          1              1             1          1   \n",
              "56          1          1              1             1          1   \n",
              "56          1          1              1             1          1   \n",
              "56         -1          1              1             1          1   \n",
              "56          1          1              1             1          1   \n",
              "56         -1          1              1             1          1   \n",
              "56          1          1              1             1          1   \n",
              "56         -1          1              1             1          1   \n",
              "56         -1          1              1             1          1   \n",
              "56         -1          1              1             1          1   \n",
              "56          1          1              1             1          1   \n",
              "56          1          1              1             1          1   \n",
              "56         -1          1              1             1          1   \n",
              "56          1          1              1             1          1   \n",
              "56         -1          1              1             1          1   \n",
              "56          1          1              1             1          1   \n",
              "56          1          1              1             1          1   \n",
              "56          1          1              1             1          1   \n",
              "56         -1          1              1             1          1   \n",
              "56         -1          1              1             1          1   \n",
              "56         -1          1              1             1          1   \n",
              "56          1          1              1             1          1   \n",
              "56          1          1              1             1          1   \n",
              "56         -1          1              1             1          1   \n",
              "56          1          1              1             1          1   \n",
              "56          1          1              1             1          1   \n",
              "56         -1          1              1             1          1   \n",
              "56          1          1              1             1          1   \n",
              "56         -1          1              1             1          1   \n",
              "\n",
              "    files_on_flash  can_use_internet  like_draw  wanna_make_game   age  ...  \\\n",
              "56               1                 1         -1                1  14.0  ...   \n",
              "56               1                 1         -1                1  14.0  ...   \n",
              "56               1                 1          1                1  14.0  ...   \n",
              "56               1                 1          1                1  14.0  ...   \n",
              "56               1                 1         -1                1  14.0  ...   \n",
              "56               1                 1         -1                1  14.0  ...   \n",
              "56               1                 1          1                1  14.0  ...   \n",
              "56               1                 1         -1                1  14.0  ...   \n",
              "56               1                 1         -1                1  14.0  ...   \n",
              "56               1                 1          1                1  14.0  ...   \n",
              "56               1                 1         -1                1  14.0  ...   \n",
              "56               1                 1         -1                1  14.0  ...   \n",
              "56               1                 1          1                1  14.0  ...   \n",
              "56               1                 1          1                1  14.0  ...   \n",
              "56               1                 1         -1                1  14.0  ...   \n",
              "56               1                 1         -1                1  14.0  ...   \n",
              "56               1                 1         -1                1  14.0  ...   \n",
              "56               1                 1          1                1  14.0  ...   \n",
              "56               1                 1         -1                1  14.0  ...   \n",
              "56               1                 1          1                1  14.0  ...   \n",
              "56               1                 1          1                1  14.0  ...   \n",
              "56               1                 1          1                1  14.0  ...   \n",
              "56               1                 1          1                1  14.0  ...   \n",
              "56               1                 1          1                1  14.0  ...   \n",
              "56               1                 1          1                1  14.0  ...   \n",
              "56               1                 1          1                1  14.0  ...   \n",
              "56               1                 1         -1                1  14.0  ...   \n",
              "56               1                 1          1                1  14.0  ...   \n",
              "56               1                 1         -1                1  14.0  ...   \n",
              "56               1                 1         -1                1  14.0  ...   \n",
              "\n",
              "    wanna_mobile_game  like_design         rec1               rec2  \\\n",
              "56                  1            1  изуение PHP  Кибербезопасность   \n",
              "56                  1            1  изуение PHP  Кибербезопасность   \n",
              "56                  1            0  изуение PHP  Кибербезопасность   \n",
              "56                  1           -1  изуение PHP  Кибербезопасность   \n",
              "56                  1            0  изуение PHP  Кибербезопасность   \n",
              "56                  1            0  изуение PHP  Кибербезопасность   \n",
              "56                  1           -1  изуение PHP  Кибербезопасность   \n",
              "56                  1            1  изуение PHP  Кибербезопасность   \n",
              "56                  1            1  изуение PHP  Кибербезопасность   \n",
              "56                  1            0  изуение PHP  Кибербезопасность   \n",
              "56                  1            0  изуение PHP  Кибербезопасность   \n",
              "56                  1            1  изуение PHP  Кибербезопасность   \n",
              "56                  1            1  изуение PHP  Кибербезопасность   \n",
              "56                  1            1  изуение PHP  Кибербезопасность   \n",
              "56                  1            0  изуение PHP  Кибербезопасность   \n",
              "56                  1           -1  изуение PHP  Кибербезопасность   \n",
              "56                  1           -1  изуение PHP  Кибербезопасность   \n",
              "56                  1            0  изуение PHP  Кибербезопасность   \n",
              "56                  1            1  изуение PHP  Кибербезопасность   \n",
              "56                  1            1  изуение PHP  Кибербезопасность   \n",
              "56                  1            1  изуение PHP  Кибербезопасность   \n",
              "56                  1            0  изуение PHP  Кибербезопасность   \n",
              "56                  1           -1  изуение PHP  Кибербезопасность   \n",
              "56                  1            1  изуение PHP  Кибербезопасность   \n",
              "56                  1            1  изуение PHP  Кибербезопасность   \n",
              "56                  1           -1  изуение PHP  Кибербезопасность   \n",
              "56                  1            0  изуение PHP  Кибербезопасность   \n",
              "56                  1           -1  изуение PHP  Кибербезопасность   \n",
              "56                  1            1  изуение PHP  Кибербезопасность   \n",
              "56                  1            0  изуение PHP  Кибербезопасность   \n",
              "\n",
              "    learn_prog_minecraft  wanna_3Dobjects  like_puzzles  wanna_logics_ex  \\\n",
              "56                     0                1             1                1   \n",
              "56                     0                1            -1                0   \n",
              "56                     0                1             1                0   \n",
              "56                     0                1             1               -1   \n",
              "56                     0                1            -1                1   \n",
              "56                     0                1             0                1   \n",
              "56                     0                1            -1                1   \n",
              "56                     0                1             1                0   \n",
              "56                     0                1            -1               -1   \n",
              "56                     0                1            -1               -1   \n",
              "56                     0                1            -1                1   \n",
              "56                     0                1             0                0   \n",
              "56                     0                1             0                0   \n",
              "56                     0                1             1               -1   \n",
              "56                     0                1             0                0   \n",
              "56                     0                1             0                1   \n",
              "56                     0                1             0                0   \n",
              "56                     0                1             0                0   \n",
              "56                     0                1            -1                0   \n",
              "56                     0                1             1               -1   \n",
              "56                     0                1             1               -1   \n",
              "56                     0                1             1               -1   \n",
              "56                     0                1            -1               -1   \n",
              "56                     0                1            -1                1   \n",
              "56                     0                1             0                1   \n",
              "56                     0                1             0                0   \n",
              "56                     0                1             1                0   \n",
              "56                     0                1             1                1   \n",
              "56                     0                1             1                0   \n",
              "56                     0                1             0               -1   \n",
              "\n",
              "    wanna_app  know_unity  \n",
              "56          1           0  \n",
              "56          1          -1  \n",
              "56          1           0  \n",
              "56          1           1  \n",
              "56          1           1  \n",
              "56          1          -1  \n",
              "56          1          -1  \n",
              "56          1           1  \n",
              "56          1           0  \n",
              "56          1          -1  \n",
              "56          1           0  \n",
              "56          1          -1  \n",
              "56          1          -1  \n",
              "56          1           1  \n",
              "56          1           0  \n",
              "56          1          -1  \n",
              "56          1           1  \n",
              "56          1           1  \n",
              "56          1          -1  \n",
              "56          1           1  \n",
              "56          1           0  \n",
              "56          1           1  \n",
              "56          1           1  \n",
              "56          1          -1  \n",
              "56          1          -1  \n",
              "56          1           1  \n",
              "56          1           0  \n",
              "56          1          -1  \n",
              "56          1           0  \n",
              "56          1          -1  \n",
              "\n",
              "[30 rows x 56 columns]"
            ],
            "text/html": [
              "\n",
              "  <div id=\"df-a498ee59-4a97-476d-93fb-599a706aecc7\">\n",
              "    <div class=\"colab-df-container\">\n",
              "      <div>\n",
              "<style scoped>\n",
              "    .dataframe tbody tr th:only-of-type {\n",
              "        vertical-align: middle;\n",
              "    }\n",
              "\n",
              "    .dataframe tbody tr th {\n",
              "        vertical-align: top;\n",
              "    }\n",
              "\n",
              "    .dataframe thead th {\n",
              "        text-align: right;\n",
              "    }\n",
              "</style>\n",
              "<table border=\"1\" class=\"dataframe\">\n",
              "  <thead>\n",
              "    <tr style=\"text-align: right;\">\n",
              "      <th></th>\n",
              "      <th>is_female</th>\n",
              "      <th>type_fast</th>\n",
              "      <th>can_save_file</th>\n",
              "      <th>can_make_doc</th>\n",
              "      <th>know_comb</th>\n",
              "      <th>files_on_flash</th>\n",
              "      <th>can_use_internet</th>\n",
              "      <th>like_draw</th>\n",
              "      <th>wanna_make_game</th>\n",
              "      <th>age</th>\n",
              "      <th>...</th>\n",
              "      <th>wanna_mobile_game</th>\n",
              "      <th>like_design</th>\n",
              "      <th>rec1</th>\n",
              "      <th>rec2</th>\n",
              "      <th>learn_prog_minecraft</th>\n",
              "      <th>wanna_3Dobjects</th>\n",
              "      <th>like_puzzles</th>\n",
              "      <th>wanna_logics_ex</th>\n",
              "      <th>wanna_app</th>\n",
              "      <th>know_unity</th>\n",
              "    </tr>\n",
              "  </thead>\n",
              "  <tbody>\n",
              "    <tr>\n",
              "      <th>56</th>\n",
              "      <td>-1</td>\n",
              "      <td>1</td>\n",
              "      <td>1</td>\n",
              "      <td>1</td>\n",
              "      <td>1</td>\n",
              "      <td>1</td>\n",
              "      <td>1</td>\n",
              "      <td>-1</td>\n",
              "      <td>1</td>\n",
              "      <td>14.0</td>\n",
              "      <td>...</td>\n",
              "      <td>1</td>\n",
              "      <td>1</td>\n",
              "      <td>изуение PHP</td>\n",
              "      <td>Кибербезопасность</td>\n",
              "      <td>0</td>\n",
              "      <td>1</td>\n",
              "      <td>1</td>\n",
              "      <td>1</td>\n",
              "      <td>1</td>\n",
              "      <td>0</td>\n",
              "    </tr>\n",
              "    <tr>\n",
              "      <th>56</th>\n",
              "      <td>-1</td>\n",
              "      <td>1</td>\n",
              "      <td>1</td>\n",
              "      <td>1</td>\n",
              "      <td>1</td>\n",
              "      <td>1</td>\n",
              "      <td>1</td>\n",
              "      <td>-1</td>\n",
              "      <td>1</td>\n",
              "      <td>14.0</td>\n",
              "      <td>...</td>\n",
              "      <td>1</td>\n",
              "      <td>1</td>\n",
              "      <td>изуение PHP</td>\n",
              "      <td>Кибербезопасность</td>\n",
              "      <td>0</td>\n",
              "      <td>1</td>\n",
              "      <td>-1</td>\n",
              "      <td>0</td>\n",
              "      <td>1</td>\n",
              "      <td>-1</td>\n",
              "    </tr>\n",
              "    <tr>\n",
              "      <th>56</th>\n",
              "      <td>1</td>\n",
              "      <td>1</td>\n",
              "      <td>1</td>\n",
              "      <td>1</td>\n",
              "      <td>1</td>\n",
              "      <td>1</td>\n",
              "      <td>1</td>\n",
              "      <td>1</td>\n",
              "      <td>1</td>\n",
              "      <td>14.0</td>\n",
              "      <td>...</td>\n",
              "      <td>1</td>\n",
              "      <td>0</td>\n",
              "      <td>изуение PHP</td>\n",
              "      <td>Кибербезопасность</td>\n",
              "      <td>0</td>\n",
              "      <td>1</td>\n",
              "      <td>1</td>\n",
              "      <td>0</td>\n",
              "      <td>1</td>\n",
              "      <td>0</td>\n",
              "    </tr>\n",
              "    <tr>\n",
              "      <th>56</th>\n",
              "      <td>1</td>\n",
              "      <td>1</td>\n",
              "      <td>1</td>\n",
              "      <td>1</td>\n",
              "      <td>1</td>\n",
              "      <td>1</td>\n",
              "      <td>1</td>\n",
              "      <td>1</td>\n",
              "      <td>1</td>\n",
              "      <td>14.0</td>\n",
              "      <td>...</td>\n",
              "      <td>1</td>\n",
              "      <td>-1</td>\n",
              "      <td>изуение PHP</td>\n",
              "      <td>Кибербезопасность</td>\n",
              "      <td>0</td>\n",
              "      <td>1</td>\n",
              "      <td>1</td>\n",
              "      <td>-1</td>\n",
              "      <td>1</td>\n",
              "      <td>1</td>\n",
              "    </tr>\n",
              "    <tr>\n",
              "      <th>56</th>\n",
              "      <td>-1</td>\n",
              "      <td>1</td>\n",
              "      <td>1</td>\n",
              "      <td>1</td>\n",
              "      <td>1</td>\n",
              "      <td>1</td>\n",
              "      <td>1</td>\n",
              "      <td>-1</td>\n",
              "      <td>1</td>\n",
              "      <td>14.0</td>\n",
              "      <td>...</td>\n",
              "      <td>1</td>\n",
              "      <td>0</td>\n",
              "      <td>изуение PHP</td>\n",
              "      <td>Кибербезопасность</td>\n",
              "      <td>0</td>\n",
              "      <td>1</td>\n",
              "      <td>-1</td>\n",
              "      <td>1</td>\n",
              "      <td>1</td>\n",
              "      <td>1</td>\n",
              "    </tr>\n",
              "    <tr>\n",
              "      <th>56</th>\n",
              "      <td>1</td>\n",
              "      <td>1</td>\n",
              "      <td>1</td>\n",
              "      <td>1</td>\n",
              "      <td>1</td>\n",
              "      <td>1</td>\n",
              "      <td>1</td>\n",
              "      <td>-1</td>\n",
              "      <td>1</td>\n",
              "      <td>14.0</td>\n",
              "      <td>...</td>\n",
              "      <td>1</td>\n",
              "      <td>0</td>\n",
              "      <td>изуение PHP</td>\n",
              "      <td>Кибербезопасность</td>\n",
              "      <td>0</td>\n",
              "      <td>1</td>\n",
              "      <td>0</td>\n",
              "      <td>1</td>\n",
              "      <td>1</td>\n",
              "      <td>-1</td>\n",
              "    </tr>\n",
              "    <tr>\n",
              "      <th>56</th>\n",
              "      <td>-1</td>\n",
              "      <td>1</td>\n",
              "      <td>1</td>\n",
              "      <td>1</td>\n",
              "      <td>1</td>\n",
              "      <td>1</td>\n",
              "      <td>1</td>\n",
              "      <td>1</td>\n",
              "      <td>1</td>\n",
              "      <td>14.0</td>\n",
              "      <td>...</td>\n",
              "      <td>1</td>\n",
              "      <td>-1</td>\n",
              "      <td>изуение PHP</td>\n",
              "      <td>Кибербезопасность</td>\n",
              "      <td>0</td>\n",
              "      <td>1</td>\n",
              "      <td>-1</td>\n",
              "      <td>1</td>\n",
              "      <td>1</td>\n",
              "      <td>-1</td>\n",
              "    </tr>\n",
              "    <tr>\n",
              "      <th>56</th>\n",
              "      <td>1</td>\n",
              "      <td>1</td>\n",
              "      <td>1</td>\n",
              "      <td>1</td>\n",
              "      <td>1</td>\n",
              "      <td>1</td>\n",
              "      <td>1</td>\n",
              "      <td>-1</td>\n",
              "      <td>1</td>\n",
              "      <td>14.0</td>\n",
              "      <td>...</td>\n",
              "      <td>1</td>\n",
              "      <td>1</td>\n",
              "      <td>изуение PHP</td>\n",
              "      <td>Кибербезопасность</td>\n",
              "      <td>0</td>\n",
              "      <td>1</td>\n",
              "      <td>1</td>\n",
              "      <td>0</td>\n",
              "      <td>1</td>\n",
              "      <td>1</td>\n",
              "    </tr>\n",
              "    <tr>\n",
              "      <th>56</th>\n",
              "      <td>-1</td>\n",
              "      <td>1</td>\n",
              "      <td>1</td>\n",
              "      <td>1</td>\n",
              "      <td>1</td>\n",
              "      <td>1</td>\n",
              "      <td>1</td>\n",
              "      <td>-1</td>\n",
              "      <td>1</td>\n",
              "      <td>14.0</td>\n",
              "      <td>...</td>\n",
              "      <td>1</td>\n",
              "      <td>1</td>\n",
              "      <td>изуение PHP</td>\n",
              "      <td>Кибербезопасность</td>\n",
              "      <td>0</td>\n",
              "      <td>1</td>\n",
              "      <td>-1</td>\n",
              "      <td>-1</td>\n",
              "      <td>1</td>\n",
              "      <td>0</td>\n",
              "    </tr>\n",
              "    <tr>\n",
              "      <th>56</th>\n",
              "      <td>-1</td>\n",
              "      <td>1</td>\n",
              "      <td>1</td>\n",
              "      <td>1</td>\n",
              "      <td>1</td>\n",
              "      <td>1</td>\n",
              "      <td>1</td>\n",
              "      <td>1</td>\n",
              "      <td>1</td>\n",
              "      <td>14.0</td>\n",
              "      <td>...</td>\n",
              "      <td>1</td>\n",
              "      <td>0</td>\n",
              "      <td>изуение PHP</td>\n",
              "      <td>Кибербезопасность</td>\n",
              "      <td>0</td>\n",
              "      <td>1</td>\n",
              "      <td>-1</td>\n",
              "      <td>-1</td>\n",
              "      <td>1</td>\n",
              "      <td>-1</td>\n",
              "    </tr>\n",
              "    <tr>\n",
              "      <th>56</th>\n",
              "      <td>-1</td>\n",
              "      <td>1</td>\n",
              "      <td>1</td>\n",
              "      <td>1</td>\n",
              "      <td>1</td>\n",
              "      <td>1</td>\n",
              "      <td>1</td>\n",
              "      <td>-1</td>\n",
              "      <td>1</td>\n",
              "      <td>14.0</td>\n",
              "      <td>...</td>\n",
              "      <td>1</td>\n",
              "      <td>0</td>\n",
              "      <td>изуение PHP</td>\n",
              "      <td>Кибербезопасность</td>\n",
              "      <td>0</td>\n",
              "      <td>1</td>\n",
              "      <td>-1</td>\n",
              "      <td>1</td>\n",
              "      <td>1</td>\n",
              "      <td>0</td>\n",
              "    </tr>\n",
              "    <tr>\n",
              "      <th>56</th>\n",
              "      <td>1</td>\n",
              "      <td>1</td>\n",
              "      <td>1</td>\n",
              "      <td>1</td>\n",
              "      <td>1</td>\n",
              "      <td>1</td>\n",
              "      <td>1</td>\n",
              "      <td>-1</td>\n",
              "      <td>1</td>\n",
              "      <td>14.0</td>\n",
              "      <td>...</td>\n",
              "      <td>1</td>\n",
              "      <td>1</td>\n",
              "      <td>изуение PHP</td>\n",
              "      <td>Кибербезопасность</td>\n",
              "      <td>0</td>\n",
              "      <td>1</td>\n",
              "      <td>0</td>\n",
              "      <td>0</td>\n",
              "      <td>1</td>\n",
              "      <td>-1</td>\n",
              "    </tr>\n",
              "    <tr>\n",
              "      <th>56</th>\n",
              "      <td>1</td>\n",
              "      <td>1</td>\n",
              "      <td>1</td>\n",
              "      <td>1</td>\n",
              "      <td>1</td>\n",
              "      <td>1</td>\n",
              "      <td>1</td>\n",
              "      <td>1</td>\n",
              "      <td>1</td>\n",
              "      <td>14.0</td>\n",
              "      <td>...</td>\n",
              "      <td>1</td>\n",
              "      <td>1</td>\n",
              "      <td>изуение PHP</td>\n",
              "      <td>Кибербезопасность</td>\n",
              "      <td>0</td>\n",
              "      <td>1</td>\n",
              "      <td>0</td>\n",
              "      <td>0</td>\n",
              "      <td>1</td>\n",
              "      <td>-1</td>\n",
              "    </tr>\n",
              "    <tr>\n",
              "      <th>56</th>\n",
              "      <td>-1</td>\n",
              "      <td>1</td>\n",
              "      <td>1</td>\n",
              "      <td>1</td>\n",
              "      <td>1</td>\n",
              "      <td>1</td>\n",
              "      <td>1</td>\n",
              "      <td>1</td>\n",
              "      <td>1</td>\n",
              "      <td>14.0</td>\n",
              "      <td>...</td>\n",
              "      <td>1</td>\n",
              "      <td>1</td>\n",
              "      <td>изуение PHP</td>\n",
              "      <td>Кибербезопасность</td>\n",
              "      <td>0</td>\n",
              "      <td>1</td>\n",
              "      <td>1</td>\n",
              "      <td>-1</td>\n",
              "      <td>1</td>\n",
              "      <td>1</td>\n",
              "    </tr>\n",
              "    <tr>\n",
              "      <th>56</th>\n",
              "      <td>1</td>\n",
              "      <td>1</td>\n",
              "      <td>1</td>\n",
              "      <td>1</td>\n",
              "      <td>1</td>\n",
              "      <td>1</td>\n",
              "      <td>1</td>\n",
              "      <td>-1</td>\n",
              "      <td>1</td>\n",
              "      <td>14.0</td>\n",
              "      <td>...</td>\n",
              "      <td>1</td>\n",
              "      <td>0</td>\n",
              "      <td>изуение PHP</td>\n",
              "      <td>Кибербезопасность</td>\n",
              "      <td>0</td>\n",
              "      <td>1</td>\n",
              "      <td>0</td>\n",
              "      <td>0</td>\n",
              "      <td>1</td>\n",
              "      <td>0</td>\n",
              "    </tr>\n",
              "    <tr>\n",
              "      <th>56</th>\n",
              "      <td>-1</td>\n",
              "      <td>1</td>\n",
              "      <td>1</td>\n",
              "      <td>1</td>\n",
              "      <td>1</td>\n",
              "      <td>1</td>\n",
              "      <td>1</td>\n",
              "      <td>-1</td>\n",
              "      <td>1</td>\n",
              "      <td>14.0</td>\n",
              "      <td>...</td>\n",
              "      <td>1</td>\n",
              "      <td>-1</td>\n",
              "      <td>изуение PHP</td>\n",
              "      <td>Кибербезопасность</td>\n",
              "      <td>0</td>\n",
              "      <td>1</td>\n",
              "      <td>0</td>\n",
              "      <td>1</td>\n",
              "      <td>1</td>\n",
              "      <td>-1</td>\n",
              "    </tr>\n",
              "    <tr>\n",
              "      <th>56</th>\n",
              "      <td>1</td>\n",
              "      <td>1</td>\n",
              "      <td>1</td>\n",
              "      <td>1</td>\n",
              "      <td>1</td>\n",
              "      <td>1</td>\n",
              "      <td>1</td>\n",
              "      <td>-1</td>\n",
              "      <td>1</td>\n",
              "      <td>14.0</td>\n",
              "      <td>...</td>\n",
              "      <td>1</td>\n",
              "      <td>-1</td>\n",
              "      <td>изуение PHP</td>\n",
              "      <td>Кибербезопасность</td>\n",
              "      <td>0</td>\n",
              "      <td>1</td>\n",
              "      <td>0</td>\n",
              "      <td>0</td>\n",
              "      <td>1</td>\n",
              "      <td>1</td>\n",
              "    </tr>\n",
              "    <tr>\n",
              "      <th>56</th>\n",
              "      <td>1</td>\n",
              "      <td>1</td>\n",
              "      <td>1</td>\n",
              "      <td>1</td>\n",
              "      <td>1</td>\n",
              "      <td>1</td>\n",
              "      <td>1</td>\n",
              "      <td>1</td>\n",
              "      <td>1</td>\n",
              "      <td>14.0</td>\n",
              "      <td>...</td>\n",
              "      <td>1</td>\n",
              "      <td>0</td>\n",
              "      <td>изуение PHP</td>\n",
              "      <td>Кибербезопасность</td>\n",
              "      <td>0</td>\n",
              "      <td>1</td>\n",
              "      <td>0</td>\n",
              "      <td>0</td>\n",
              "      <td>1</td>\n",
              "      <td>1</td>\n",
              "    </tr>\n",
              "    <tr>\n",
              "      <th>56</th>\n",
              "      <td>1</td>\n",
              "      <td>1</td>\n",
              "      <td>1</td>\n",
              "      <td>1</td>\n",
              "      <td>1</td>\n",
              "      <td>1</td>\n",
              "      <td>1</td>\n",
              "      <td>-1</td>\n",
              "      <td>1</td>\n",
              "      <td>14.0</td>\n",
              "      <td>...</td>\n",
              "      <td>1</td>\n",
              "      <td>1</td>\n",
              "      <td>изуение PHP</td>\n",
              "      <td>Кибербезопасность</td>\n",
              "      <td>0</td>\n",
              "      <td>1</td>\n",
              "      <td>-1</td>\n",
              "      <td>0</td>\n",
              "      <td>1</td>\n",
              "      <td>-1</td>\n",
              "    </tr>\n",
              "    <tr>\n",
              "      <th>56</th>\n",
              "      <td>-1</td>\n",
              "      <td>1</td>\n",
              "      <td>1</td>\n",
              "      <td>1</td>\n",
              "      <td>1</td>\n",
              "      <td>1</td>\n",
              "      <td>1</td>\n",
              "      <td>1</td>\n",
              "      <td>1</td>\n",
              "      <td>14.0</td>\n",
              "      <td>...</td>\n",
              "      <td>1</td>\n",
              "      <td>1</td>\n",
              "      <td>изуение PHP</td>\n",
              "      <td>Кибербезопасность</td>\n",
              "      <td>0</td>\n",
              "      <td>1</td>\n",
              "      <td>1</td>\n",
              "      <td>-1</td>\n",
              "      <td>1</td>\n",
              "      <td>1</td>\n",
              "    </tr>\n",
              "    <tr>\n",
              "      <th>56</th>\n",
              "      <td>-1</td>\n",
              "      <td>1</td>\n",
              "      <td>1</td>\n",
              "      <td>1</td>\n",
              "      <td>1</td>\n",
              "      <td>1</td>\n",
              "      <td>1</td>\n",
              "      <td>1</td>\n",
              "      <td>1</td>\n",
              "      <td>14.0</td>\n",
              "      <td>...</td>\n",
              "      <td>1</td>\n",
              "      <td>1</td>\n",
              "      <td>изуение PHP</td>\n",
              "      <td>Кибербезопасность</td>\n",
              "      <td>0</td>\n",
              "      <td>1</td>\n",
              "      <td>1</td>\n",
              "      <td>-1</td>\n",
              "      <td>1</td>\n",
              "      <td>0</td>\n",
              "    </tr>\n",
              "    <tr>\n",
              "      <th>56</th>\n",
              "      <td>-1</td>\n",
              "      <td>1</td>\n",
              "      <td>1</td>\n",
              "      <td>1</td>\n",
              "      <td>1</td>\n",
              "      <td>1</td>\n",
              "      <td>1</td>\n",
              "      <td>1</td>\n",
              "      <td>1</td>\n",
              "      <td>14.0</td>\n",
              "      <td>...</td>\n",
              "      <td>1</td>\n",
              "      <td>0</td>\n",
              "      <td>изуение PHP</td>\n",
              "      <td>Кибербезопасность</td>\n",
              "      <td>0</td>\n",
              "      <td>1</td>\n",
              "      <td>1</td>\n",
              "      <td>-1</td>\n",
              "      <td>1</td>\n",
              "      <td>1</td>\n",
              "    </tr>\n",
              "    <tr>\n",
              "      <th>56</th>\n",
              "      <td>1</td>\n",
              "      <td>1</td>\n",
              "      <td>1</td>\n",
              "      <td>1</td>\n",
              "      <td>1</td>\n",
              "      <td>1</td>\n",
              "      <td>1</td>\n",
              "      <td>1</td>\n",
              "      <td>1</td>\n",
              "      <td>14.0</td>\n",
              "      <td>...</td>\n",
              "      <td>1</td>\n",
              "      <td>-1</td>\n",
              "      <td>изуение PHP</td>\n",
              "      <td>Кибербезопасность</td>\n",
              "      <td>0</td>\n",
              "      <td>1</td>\n",
              "      <td>-1</td>\n",
              "      <td>-1</td>\n",
              "      <td>1</td>\n",
              "      <td>1</td>\n",
              "    </tr>\n",
              "    <tr>\n",
              "      <th>56</th>\n",
              "      <td>1</td>\n",
              "      <td>1</td>\n",
              "      <td>1</td>\n",
              "      <td>1</td>\n",
              "      <td>1</td>\n",
              "      <td>1</td>\n",
              "      <td>1</td>\n",
              "      <td>1</td>\n",
              "      <td>1</td>\n",
              "      <td>14.0</td>\n",
              "      <td>...</td>\n",
              "      <td>1</td>\n",
              "      <td>1</td>\n",
              "      <td>изуение PHP</td>\n",
              "      <td>Кибербезопасность</td>\n",
              "      <td>0</td>\n",
              "      <td>1</td>\n",
              "      <td>-1</td>\n",
              "      <td>1</td>\n",
              "      <td>1</td>\n",
              "      <td>-1</td>\n",
              "    </tr>\n",
              "    <tr>\n",
              "      <th>56</th>\n",
              "      <td>-1</td>\n",
              "      <td>1</td>\n",
              "      <td>1</td>\n",
              "      <td>1</td>\n",
              "      <td>1</td>\n",
              "      <td>1</td>\n",
              "      <td>1</td>\n",
              "      <td>1</td>\n",
              "      <td>1</td>\n",
              "      <td>14.0</td>\n",
              "      <td>...</td>\n",
              "      <td>1</td>\n",
              "      <td>1</td>\n",
              "      <td>изуение PHP</td>\n",
              "      <td>Кибербезопасность</td>\n",
              "      <td>0</td>\n",
              "      <td>1</td>\n",
              "      <td>0</td>\n",
              "      <td>1</td>\n",
              "      <td>1</td>\n",
              "      <td>-1</td>\n",
              "    </tr>\n",
              "    <tr>\n",
              "      <th>56</th>\n",
              "      <td>1</td>\n",
              "      <td>1</td>\n",
              "      <td>1</td>\n",
              "      <td>1</td>\n",
              "      <td>1</td>\n",
              "      <td>1</td>\n",
              "      <td>1</td>\n",
              "      <td>1</td>\n",
              "      <td>1</td>\n",
              "      <td>14.0</td>\n",
              "      <td>...</td>\n",
              "      <td>1</td>\n",
              "      <td>-1</td>\n",
              "      <td>изуение PHP</td>\n",
              "      <td>Кибербезопасность</td>\n",
              "      <td>0</td>\n",
              "      <td>1</td>\n",
              "      <td>0</td>\n",
              "      <td>0</td>\n",
              "      <td>1</td>\n",
              "      <td>1</td>\n",
              "    </tr>\n",
              "    <tr>\n",
              "      <th>56</th>\n",
              "      <td>1</td>\n",
              "      <td>1</td>\n",
              "      <td>1</td>\n",
              "      <td>1</td>\n",
              "      <td>1</td>\n",
              "      <td>1</td>\n",
              "      <td>1</td>\n",
              "      <td>-1</td>\n",
              "      <td>1</td>\n",
              "      <td>14.0</td>\n",
              "      <td>...</td>\n",
              "      <td>1</td>\n",
              "      <td>0</td>\n",
              "      <td>изуение PHP</td>\n",
              "      <td>Кибербезопасность</td>\n",
              "      <td>0</td>\n",
              "      <td>1</td>\n",
              "      <td>1</td>\n",
              "      <td>0</td>\n",
              "      <td>1</td>\n",
              "      <td>0</td>\n",
              "    </tr>\n",
              "    <tr>\n",
              "      <th>56</th>\n",
              "      <td>-1</td>\n",
              "      <td>1</td>\n",
              "      <td>1</td>\n",
              "      <td>1</td>\n",
              "      <td>1</td>\n",
              "      <td>1</td>\n",
              "      <td>1</td>\n",
              "      <td>1</td>\n",
              "      <td>1</td>\n",
              "      <td>14.0</td>\n",
              "      <td>...</td>\n",
              "      <td>1</td>\n",
              "      <td>-1</td>\n",
              "      <td>изуение PHP</td>\n",
              "      <td>Кибербезопасность</td>\n",
              "      <td>0</td>\n",
              "      <td>1</td>\n",
              "      <td>1</td>\n",
              "      <td>1</td>\n",
              "      <td>1</td>\n",
              "      <td>-1</td>\n",
              "    </tr>\n",
              "    <tr>\n",
              "      <th>56</th>\n",
              "      <td>1</td>\n",
              "      <td>1</td>\n",
              "      <td>1</td>\n",
              "      <td>1</td>\n",
              "      <td>1</td>\n",
              "      <td>1</td>\n",
              "      <td>1</td>\n",
              "      <td>-1</td>\n",
              "      <td>1</td>\n",
              "      <td>14.0</td>\n",
              "      <td>...</td>\n",
              "      <td>1</td>\n",
              "      <td>1</td>\n",
              "      <td>изуение PHP</td>\n",
              "      <td>Кибербезопасность</td>\n",
              "      <td>0</td>\n",
              "      <td>1</td>\n",
              "      <td>1</td>\n",
              "      <td>0</td>\n",
              "      <td>1</td>\n",
              "      <td>0</td>\n",
              "    </tr>\n",
              "    <tr>\n",
              "      <th>56</th>\n",
              "      <td>-1</td>\n",
              "      <td>1</td>\n",
              "      <td>1</td>\n",
              "      <td>1</td>\n",
              "      <td>1</td>\n",
              "      <td>1</td>\n",
              "      <td>1</td>\n",
              "      <td>-1</td>\n",
              "      <td>1</td>\n",
              "      <td>14.0</td>\n",
              "      <td>...</td>\n",
              "      <td>1</td>\n",
              "      <td>0</td>\n",
              "      <td>изуение PHP</td>\n",
              "      <td>Кибербезопасность</td>\n",
              "      <td>0</td>\n",
              "      <td>1</td>\n",
              "      <td>0</td>\n",
              "      <td>-1</td>\n",
              "      <td>1</td>\n",
              "      <td>-1</td>\n",
              "    </tr>\n",
              "  </tbody>\n",
              "</table>\n",
              "<p>30 rows × 56 columns</p>\n",
              "</div>\n",
              "      <button class=\"colab-df-convert\" onclick=\"convertToInteractive('df-a498ee59-4a97-476d-93fb-599a706aecc7')\"\n",
              "              title=\"Convert this dataframe to an interactive table.\"\n",
              "              style=\"display:none;\">\n",
              "        \n",
              "  <svg xmlns=\"http://www.w3.org/2000/svg\" height=\"24px\"viewBox=\"0 0 24 24\"\n",
              "       width=\"24px\">\n",
              "    <path d=\"M0 0h24v24H0V0z\" fill=\"none\"/>\n",
              "    <path d=\"M18.56 5.44l.94 2.06.94-2.06 2.06-.94-2.06-.94-.94-2.06-.94 2.06-2.06.94zm-11 1L8.5 8.5l.94-2.06 2.06-.94-2.06-.94L8.5 2.5l-.94 2.06-2.06.94zm10 10l.94 2.06.94-2.06 2.06-.94-2.06-.94-.94-2.06-.94 2.06-2.06.94z\"/><path d=\"M17.41 7.96l-1.37-1.37c-.4-.4-.92-.59-1.43-.59-.52 0-1.04.2-1.43.59L10.3 9.45l-7.72 7.72c-.78.78-.78 2.05 0 2.83L4 21.41c.39.39.9.59 1.41.59.51 0 1.02-.2 1.41-.59l7.78-7.78 2.81-2.81c.8-.78.8-2.07 0-2.86zM5.41 20L4 18.59l7.72-7.72 1.47 1.35L5.41 20z\"/>\n",
              "  </svg>\n",
              "      </button>\n",
              "      \n",
              "  <style>\n",
              "    .colab-df-container {\n",
              "      display:flex;\n",
              "      flex-wrap:wrap;\n",
              "      gap: 12px;\n",
              "    }\n",
              "\n",
              "    .colab-df-convert {\n",
              "      background-color: #E8F0FE;\n",
              "      border: none;\n",
              "      border-radius: 50%;\n",
              "      cursor: pointer;\n",
              "      display: none;\n",
              "      fill: #1967D2;\n",
              "      height: 32px;\n",
              "      padding: 0 0 0 0;\n",
              "      width: 32px;\n",
              "    }\n",
              "\n",
              "    .colab-df-convert:hover {\n",
              "      background-color: #E2EBFA;\n",
              "      box-shadow: 0px 1px 2px rgba(60, 64, 67, 0.3), 0px 1px 3px 1px rgba(60, 64, 67, 0.15);\n",
              "      fill: #174EA6;\n",
              "    }\n",
              "\n",
              "    [theme=dark] .colab-df-convert {\n",
              "      background-color: #3B4455;\n",
              "      fill: #D2E3FC;\n",
              "    }\n",
              "\n",
              "    [theme=dark] .colab-df-convert:hover {\n",
              "      background-color: #434B5C;\n",
              "      box-shadow: 0px 1px 3px 1px rgba(0, 0, 0, 0.15);\n",
              "      filter: drop-shadow(0px 1px 2px rgba(0, 0, 0, 0.3));\n",
              "      fill: #FFFFFF;\n",
              "    }\n",
              "  </style>\n",
              "\n",
              "      <script>\n",
              "        const buttonEl =\n",
              "          document.querySelector('#df-a498ee59-4a97-476d-93fb-599a706aecc7 button.colab-df-convert');\n",
              "        buttonEl.style.display =\n",
              "          google.colab.kernel.accessAllowed ? 'block' : 'none';\n",
              "\n",
              "        async function convertToInteractive(key) {\n",
              "          const element = document.querySelector('#df-a498ee59-4a97-476d-93fb-599a706aecc7');\n",
              "          const dataTable =\n",
              "            await google.colab.kernel.invokeFunction('convertToInteractive',\n",
              "                                                     [key], {});\n",
              "          if (!dataTable) return;\n",
              "\n",
              "          const docLinkHtml = 'Like what you see? Visit the ' +\n",
              "            '<a target=\"_blank\" href=https://colab.research.google.com/notebooks/data_table.ipynb>data table notebook</a>'\n",
              "            + ' to learn more about interactive tables.';\n",
              "          element.innerHTML = '';\n",
              "          dataTable['output_type'] = 'display_data';\n",
              "          await google.colab.output.renderOutput(dataTable, element);\n",
              "          const docLink = document.createElement('div');\n",
              "          docLink.innerHTML = docLinkHtml;\n",
              "          element.appendChild(docLink);\n",
              "        }\n",
              "      </script>\n",
              "    </div>\n",
              "  </div>\n",
              "  "
            ]
          },
          "metadata": {},
          "execution_count": 108
        }
      ]
    }
  ]
}